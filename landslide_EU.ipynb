{
 "cells": [
  {
   "cell_type": "code",
   "execution_count": 2,
   "id": "apart-louisiana",
   "metadata": {},
   "outputs": [],
   "source": [
    "import json\n",
    "import requests\n",
    "import pandas as pd\n",
    "import geopandas as gpd\n",
    "import os\n",
    "import rasterio\n",
    "from rasterio.plot import show as Show\n",
    "from rasterio import mask as mask\n",
    "import pylab as plt\n",
    "data = os.getenv('data')\n",
    "from rasterstats import point_query\n",
    "import pycountry\n",
    "import shapely\n",
    "from shapely import wkt\n",
    "import warnings\n",
    "warnings.filterwarnings('ignore')\n"
   ]
  },
  {
   "cell_type": "markdown",
   "id": "rational-turkey",
   "metadata": {},
   "source": [
    "### Landslide analysis of POIs for EU countries"
   ]
  },
  {
   "cell_type": "code",
   "execution_count": 3,
   "id": "brilliant-grounds",
   "metadata": {},
   "outputs": [],
   "source": [
    "landslide_pth = data+'/energy/LS_RF_Mean_1980-2018.tif'  # ARUP landslide layer downloaded from DDH (rainfall trigge)"
   ]
  },
  {
   "cell_type": "markdown",
   "id": "extra-orchestra",
   "metadata": {},
   "source": [
    "#### 1. Get subnational boundaries"
   ]
  },
  {
   "cell_type": "code",
   "execution_count": 7,
   "id": "applied-specification",
   "metadata": {},
   "outputs": [
    {
     "data": {
      "text/plain": [
       "[Country(alpha_2='BA', alpha_3='BIH', name='Bosnia and Herzegovina', numeric='070', official_name='Republic of Bosnia and Herzegovina')]"
      ]
     },
     "execution_count": 7,
     "metadata": {},
     "output_type": "execute_result"
    }
   ],
   "source": [
    "pycountry.countries.search_fuzzy('Bosnia')"
   ]
  },
  {
   "cell_type": "code",
   "execution_count": 8,
   "id": "historic-charter",
   "metadata": {},
   "outputs": [
    {
     "data": {
      "text/plain": [
       "['AUT', 'HRV', 'GRC', 'SVK', 'SVN', 'MNE', 'BIH']"
      ]
     },
     "execution_count": 8,
     "metadata": {},
     "output_type": "execute_result"
    }
   ],
   "source": [
    "countries = ['Austria','Croatia','Greece','Slovakia','Slovenia','Montenegro','Bosnia and Herzegovina']\n",
    "alpha3s = []\n",
    "for country in countries:\n",
    "    countries_db = pycountry.countries.get(name=country)\n",
    "    alpha3s.append(countries_db.alpha_3)\n",
    "alpha3s"
   ]
  },
  {
   "cell_type": "code",
   "execution_count": 10,
   "id": "paperback-overview",
   "metadata": {},
   "outputs": [],
   "source": [
    "def get_boundaries(alpha3,verbose=True):\n",
    "    r = requests.get(\"https://www.geoboundaries.org/gbRequest.html?ISO={}&ADM=ADM1\".format(alpha3))\n",
    "    dlPath = r.json()[0]['gjDownloadURL']\n",
    "    geoBoundary = requests.get(dlPath).json()\n",
    "    gdf = gpd.GeoDataFrame.from_features(geoBoundary['features'])[['geometry','shapeName']]\n",
    "    if verbose:\n",
    "        print('{}: retrieved {} features'.format(alpha3, len(gdf)))\n",
    "    return(gdf)"
   ]
  },
  {
   "cell_type": "code",
   "execution_count": 11,
   "id": "hazardous-italian",
   "metadata": {},
   "outputs": [
    {
     "name": "stdout",
     "output_type": "stream",
     "text": [
      "BIH: retrieved 3 features\n"
     ]
    }
   ],
   "source": [
    "boundaries_Austria = get_boundaries('AUT')\n",
    "boundaries_Croatia = get_boundaries('HRV')\n",
    "boundaries_Greece = get_boundaries('GRC')\n",
    "boundaries_Slovakia = get_boundaries('SVK')\n",
    "boundaries_Slovenia = get_boundaries('SVN')\n",
    "boundaries_Montenegro = get_boundaries('MNE')\n",
    "boundaries_Bosnia = get_boundaries('BIH')"
   ]
  },
  {
   "cell_type": "markdown",
   "id": "gothic-rally",
   "metadata": {},
   "source": [
    "#### 2. Point query Montenegro"
   ]
  },
  {
   "cell_type": "code",
   "execution_count": 13,
   "id": "editorial-collar",
   "metadata": {},
   "outputs": [],
   "source": [
    "def schools_pth(country):\n",
    "    return(data + '/osm/{}/{}_school.shp'.format(country,country))"
   ]
  },
  {
   "cell_type": "code",
   "execution_count": 42,
   "id": "friendly-living",
   "metadata": {},
   "outputs": [
    {
     "data": {
      "text/plain": [
       "'/home/nicholasjones/Data/osm/montenegro/montenegro_school.shp'"
      ]
     },
     "execution_count": 42,
     "metadata": {},
     "output_type": "execute_result"
    }
   ],
   "source": [
    "schools_pth('montenegro')"
   ]
  },
  {
   "cell_type": "code",
   "execution_count": 73,
   "id": "banned-julian",
   "metadata": {},
   "outputs": [],
   "source": [
    "montenegro_schools = gpd.read_file(schools_pth('montenegro'))"
   ]
  },
  {
   "cell_type": "code",
   "execution_count": 74,
   "id": "considered-oxygen",
   "metadata": {},
   "outputs": [],
   "source": [
    "montenegro_schools['landslide_prob'] = point_query(montenegro_schools, landslide_pth)\n",
    "montenegro_schools.landslide_prob = montenegro_schools.landslide_prob.fillna(0) * 100"
   ]
  },
  {
   "cell_type": "code",
   "execution_count": 75,
   "id": "classical-passenger",
   "metadata": {},
   "outputs": [
    {
     "data": {
      "text/plain": [
       "<AxesSubplot:>"
      ]
     },
     "execution_count": 75,
     "metadata": {},
     "output_type": "execute_result"
    },
    {
     "data": {
      "image/png": "[encoded data removed]",
      "text/plain": [
       "<Figure size 432x288 with 1 Axes>"
      ]
     },
     "metadata": {
      "needs_background": "light"
     },
     "output_type": "display_data"
    }
   ],
   "source": [
    "montenegro_schools['landslide_prob'].hist()"
   ]
  },
  {
   "cell_type": "code",
   "execution_count": 77,
   "id": "gothic-yesterday",
   "metadata": {},
   "outputs": [
    {
     "data": {
      "image/png": "[encoded data removed]",
      "text/plain": [
       "<Figure size 432x288 with 2 Axes>"
      ]
     },
     "metadata": {
      "needs_background": "light"
     },
     "output_type": "display_data"
    }
   ],
   "source": [
    "f,ax = plt.subplots()\n",
    "montenegro_schools.plot(ax = ax,column = 'landslide_prob',legend=True,cmap='hot',vmax=3,figsize=[10,10])\n",
    "#boundaries[boundaries.region == \"Valle d'Aosta\"].plot(facecolor='b',alpha=0.3,ax=ax)\n",
    "plt.title(\"Schools in Montenegro with landslide risk score\");"
   ]
  },
  {
   "cell_type": "code",
   "execution_count": 79,
   "id": "discrete-spencer",
   "metadata": {},
   "outputs": [
    {
     "data": {
      "text/html": [
       "<div>\n",
       "<style scoped>\n",
       "    .dataframe tbody tr th:only-of-type {\n",
       "        vertical-align: middle;\n",
       "    }\n",
       "\n",
       "    .dataframe tbody tr th {\n",
       "        vertical-align: top;\n",
       "    }\n",
       "\n",
       "    .dataframe thead th {\n",
       "        text-align: right;\n",
       "    }\n",
       "</style>\n",
       "<table border=\"1\" class=\"dataframe\">\n",
       "  <thead>\n",
       "    <tr style=\"text-align: right;\">\n",
       "      <th></th>\n",
       "      <th>name</th>\n",
       "      <th>amenity</th>\n",
       "      <th>geometry</th>\n",
       "      <th>landslide_prob</th>\n",
       "      <th>shapeName</th>\n",
       "    </tr>\n",
       "  </thead>\n",
       "  <tbody>\n",
       "    <tr>\n",
       "      <th>0</th>\n",
       "      <td>JU Osnovna ?kola \"Bo?idar Vukovi? Podgori?anin\"</td>\n",
       "      <td>school</td>\n",
       "      <td>POINT (19.29199 42.43151)</td>\n",
       "      <td>0.000000</td>\n",
       "      <td>Podgorica Municipality</td>\n",
       "    </tr>\n",
       "    <tr>\n",
       "      <th>1</th>\n",
       "      <td>JU Srednja ekonomska ?kola \"Mirko Ve?ovi?\"</td>\n",
       "      <td>school</td>\n",
       "      <td>POINT (19.25930 42.43300)</td>\n",
       "      <td>0.000000</td>\n",
       "      <td>Podgorica Municipality</td>\n",
       "    </tr>\n",
       "    <tr>\n",
       "      <th>2</th>\n",
       "      <td>JU Srednja stru?na ?kola \"Sergije Stani?\"</td>\n",
       "      <td>school</td>\n",
       "      <td>POINT (19.25768 42.43161)</td>\n",
       "      <td>0.658943</td>\n",
       "      <td>Podgorica Municipality</td>\n",
       "    </tr>\n",
       "    <tr>\n",
       "      <th>3</th>\n",
       "      <td>JU Srednja medicinska ?kola</td>\n",
       "      <td>school</td>\n",
       "      <td>POINT (19.24955 42.43642)</td>\n",
       "      <td>0.000000</td>\n",
       "      <td>Podgorica Municipality</td>\n",
       "    </tr>\n",
       "    <tr>\n",
       "      <th>4</th>\n",
       "      <td>JU Srednja gra?evinsko-geodetska ?kola \"In?. M...</td>\n",
       "      <td>school</td>\n",
       "      <td>POINT (19.25161 42.44495)</td>\n",
       "      <td>0.000000</td>\n",
       "      <td>Podgorica Municipality</td>\n",
       "    </tr>\n",
       "    <tr>\n",
       "      <th>...</th>\n",
       "      <td>...</td>\n",
       "      <td>...</td>\n",
       "      <td>...</td>\n",
       "      <td>...</td>\n",
       "      <td>...</td>\n",
       "    </tr>\n",
       "    <tr>\n",
       "      <th>113</th>\n",
       "      <td>Gimnazija 30. septembar</td>\n",
       "      <td>school</td>\n",
       "      <td>POINT (20.17341 42.84373)</td>\n",
       "      <td>0.000000</td>\n",
       "      <td>Ro?aje Municipality</td>\n",
       "    </tr>\n",
       "    <tr>\n",
       "      <th>114</th>\n",
       "      <td>O? Mustafa Pe?anin</td>\n",
       "      <td>school</td>\n",
       "      <td>POINT (20.16737 42.84488)</td>\n",
       "      <td>0.000000</td>\n",
       "      <td>Ro?aje Municipality</td>\n",
       "    </tr>\n",
       "    <tr>\n",
       "      <th>115</th>\n",
       "      <td>O? 25. Maj</td>\n",
       "      <td>school</td>\n",
       "      <td>POINT (20.16588 42.83949)</td>\n",
       "      <td>0.000000</td>\n",
       "      <td>Ro?aje Municipality</td>\n",
       "    </tr>\n",
       "    <tr>\n",
       "      <th>131</th>\n",
       "      <td>None</td>\n",
       "      <td>school</td>\n",
       "      <td>POINT (19.83132 42.56438)</td>\n",
       "      <td>0.000000</td>\n",
       "      <td>Gusinje Municipality</td>\n",
       "    </tr>\n",
       "    <tr>\n",
       "      <th>149</th>\n",
       "      <td>?kola</td>\n",
       "      <td>school</td>\n",
       "      <td>POINT (19.84355 42.52956)</td>\n",
       "      <td>2.477424</td>\n",
       "      <td>Gusinje Municipality</td>\n",
       "    </tr>\n",
       "  </tbody>\n",
       "</table>\n",
       "<p>170 rows × 5 columns</p>\n",
       "</div>"
      ],
      "text/plain": [
       "                                                  name amenity  \\\n",
       "0      JU Osnovna ?kola \"Bo?idar Vukovi? Podgori?anin\"  school   \n",
       "1           JU Srednja ekonomska ?kola \"Mirko Ve?ovi?\"  school   \n",
       "2            JU Srednja stru?na ?kola \"Sergije Stani?\"  school   \n",
       "3                          JU Srednja medicinska ?kola  school   \n",
       "4    JU Srednja gra?evinsko-geodetska ?kola \"In?. M...  school   \n",
       "..                                                 ...     ...   \n",
       "113                            Gimnazija 30. septembar  school   \n",
       "114                                 O? Mustafa Pe?anin  school   \n",
       "115                                         O? 25. Maj  school   \n",
       "131                                               None  school   \n",
       "149                                              ?kola  school   \n",
       "\n",
       "                      geometry  landslide_prob               shapeName  \n",
       "0    POINT (19.29199 42.43151)        0.000000  Podgorica Municipality  \n",
       "1    POINT (19.25930 42.43300)        0.000000  Podgorica Municipality  \n",
       "2    POINT (19.25768 42.43161)        0.658943  Podgorica Municipality  \n",
       "3    POINT (19.24955 42.43642)        0.000000  Podgorica Municipality  \n",
       "4    POINT (19.25161 42.44495)        0.000000  Podgorica Municipality  \n",
       "..                         ...             ...                     ...  \n",
       "113  POINT (20.17341 42.84373)        0.000000     Ro?aje Municipality  \n",
       "114  POINT (20.16737 42.84488)        0.000000     Ro?aje Municipality  \n",
       "115  POINT (20.16588 42.83949)        0.000000     Ro?aje Municipality  \n",
       "131  POINT (19.83132 42.56438)        0.000000    Gusinje Municipality  \n",
       "149  POINT (19.84355 42.52956)        2.477424    Gusinje Municipality  \n",
       "\n",
       "[170 rows x 5 columns]"
      ]
     },
     "execution_count": 79,
     "metadata": {},
     "output_type": "execute_result"
    }
   ],
   "source": [
    "montenegro_schools = gpd.sjoin(montenegro_schools,boundaries_Montenegro)    # spatial join POIs with boundaries\n",
    "montenegro_schools.drop(columns=['index_right'],inplace=True)\n",
    "montenegro_schools\n"
   ]
  },
  {
   "cell_type": "code",
   "execution_count": 80,
   "id": "beginning-frank",
   "metadata": {},
   "outputs": [
    {
     "data": {
      "text/html": [
       "<div>\n",
       "<style scoped>\n",
       "    .dataframe tbody tr th:only-of-type {\n",
       "        vertical-align: middle;\n",
       "    }\n",
       "\n",
       "    .dataframe tbody tr th {\n",
       "        vertical-align: top;\n",
       "    }\n",
       "\n",
       "    .dataframe thead th {\n",
       "        text-align: right;\n",
       "    }\n",
       "</style>\n",
       "<table border=\"1\" class=\"dataframe\">\n",
       "  <thead>\n",
       "    <tr style=\"text-align: right;\">\n",
       "      <th></th>\n",
       "      <th>landslide_prob</th>\n",
       "    </tr>\n",
       "    <tr>\n",
       "      <th>shapeName</th>\n",
       "      <th></th>\n",
       "    </tr>\n",
       "  </thead>\n",
       "  <tbody>\n",
       "    <tr>\n",
       "      <th>Kotor Municipality</th>\n",
       "      <td>2.859099</td>\n",
       "    </tr>\n",
       "    <tr>\n",
       "      <th>Budva Municipality</th>\n",
       "      <td>2.351774</td>\n",
       "    </tr>\n",
       "    <tr>\n",
       "      <th>Herceg Novi Municipality</th>\n",
       "      <td>2.062735</td>\n",
       "    </tr>\n",
       "    <tr>\n",
       "      <th>Cetinje Municipality</th>\n",
       "      <td>1.743944</td>\n",
       "    </tr>\n",
       "    <tr>\n",
       "      <th>Bar Municipality</th>\n",
       "      <td>1.251984</td>\n",
       "    </tr>\n",
       "  </tbody>\n",
       "</table>\n",
       "</div>"
      ],
      "text/plain": [
       "                          landslide_prob\n",
       "shapeName                               \n",
       "Kotor Municipality              2.859099\n",
       "Budva Municipality              2.351774\n",
       "Herceg Novi Municipality        2.062735\n",
       "Cetinje Municipality            1.743944\n",
       "Bar Municipality                1.251984"
      ]
     },
     "execution_count": 80,
     "metadata": {},
     "output_type": "execute_result"
    }
   ],
   "source": [
    "# mean landslide risk at hospitals in each region (other summary stats also possible)\n",
    "mean_landslide_prob = montenegro_schools.groupby('shapeName').mean().sort_values(by='landslide_prob',ascending=False)\n",
    "mean_landslide_prob.head()   "
   ]
  },
  {
   "cell_type": "code",
   "execution_count": 84,
   "id": "facial-fairy",
   "metadata": {},
   "outputs": [
    {
     "data": {
      "image/png": "[encoded data removed]",
      "text/plain": [
       "<Figure size 432x288 with 2 Axes>"
      ]
     },
     "metadata": {
      "needs_background": "light"
     },
     "output_type": "display_data"
    }
   ],
   "source": [
    "# join back with boundaries and visualize mean values\n",
    "boundaries_Montenegro = boundaries_Montenegro.merge(mean_landslide_prob,left_on='shapeName',right_on = mean_landslide_prob.index)\n",
    "boundaries_Montenegro.rename(columns = {'landslide_prob':'mean_landslide_prob'},inplace=True)\n",
    "boundaries_Montenegro.plot(column = 'mean_landslide_prob',legend=True)\n",
    "plt.title('Montenegro: Mean landslide risk score for schools in each ADM1 unit');"
   ]
  },
  {
   "cell_type": "markdown",
   "id": "israeli-violation",
   "metadata": {},
   "source": [
    "#### 3. Point query function"
   ]
  },
  {
   "cell_type": "code",
   "execution_count": null,
   "id": "potential-halloween",
   "metadata": {},
   "outputs": [],
   "source": [
    "def query_landslide(pois_gdf):\n",
    "    "
   ]
  },
  {
   "cell_type": "code",
   "execution_count": 14,
   "id": "labeled-retreat",
   "metadata": {},
   "outputs": [],
   "source": [
    "bosnia_schools = gpd.read_file(schools_pth('bosnia'))"
   ]
  },
  {
   "cell_type": "code",
   "execution_count": null,
   "id": "steady-religion",
   "metadata": {},
   "outputs": [],
   "source": [
    "montenegro_schools['landslide_prob'] = point_query(montenegro_schools, landslide_pth)\n",
    "montenegro_schools.landslide_prob = montenegro_schools.landslide_prob.fillna(0) * 100"
   ]
  }
 ],
 "metadata": {
  "kernelspec": {
   "display_name": "GPD3",
   "language": "python",
   "name": "gpd3"
  },
  "language_info": {
   "codemirror_mode": {
    "name": "ipython",
    "version": 3
   },
   "file_extension": ".py",
   "mimetype": "text/x-python",
   "name": "python",
   "nbconvert_exporter": "python",
   "pygments_lexer": "ipython3",
   "version": "3.7.7"
  }
 },
 "nbformat": 4,
 "nbformat_minor": 5
}

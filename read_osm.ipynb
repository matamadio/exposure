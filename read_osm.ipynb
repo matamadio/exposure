{
 "cells": [
  {
   "cell_type": "code",
   "execution_count": 1,
   "metadata": {},
   "outputs": [],
   "source": [
    "# cuebiq countries: Britain, India, Indonesia, Italy, Mexico, Singapore, US"
   ]
  },
  {
   "cell_type": "code",
   "execution_count": 3,
   "metadata": {},
   "outputs": [],
   "source": [
    "import pandas as pd\n",
    "import geopandas as gpd\n",
    "import os, sys\n",
    "import numpy as np\n",
    "sys.path.append(\"../\")\n",
    "import esy.osm.pbf\n",
    "import requests\n",
    "import glob\n",
    "import geopandas as gpd\n",
    "import numpy as np"
   ]
  },
  {
   "cell_type": "code",
   "execution_count": 2,
   "metadata": {},
   "outputs": [],
   "source": [
    "# country = 'colombia'\n",
    "# path = f'/Users/mahamfaisalkhan/repos/world-bank/covid_local/data/osm/{country}_pois/{country}-latest-free.shp/'\n",
    "# f = os.path.join(f'/Users/mahamfaisalkhan/repos/world-bank/covid_local/data/osm/{country}-latest.osm.pbf')\n"
   ]
  },
  {
   "cell_type": "markdown",
   "metadata": {},
   "source": [
    "## Defining master functions"
   ]
  },
  {
   "cell_type": "code",
   "execution_count": 3,
   "metadata": {
    "code_folding": []
   },
   "outputs": [],
   "source": [
    "def master_function(country):\n",
    "    filepath = os.path.join(f'/Users/mahamfaisalkhan/repos/world-bank/covid_local/data/osm/{country}/{country}-latest.osm.pbf')\n",
    "\n",
    "    osm = esy.osm.pbf.File(filepath)\n",
    "    '''\n",
    "    Commercial\n",
    "    Transportation\n",
    "    Sport\n",
    "    Public\n",
    "    Warehouse\n",
    "    Govt\n",
    "    Financial\n",
    "    Emergency\n",
    "    Education\n",
    "    Gas\n",
    "    Hospital\n",
    "    \n",
    "    '''\n",
    "\n",
    "    records = [entry for entry in osm if \n",
    "\n",
    "               entry.tags.get('shop') or \n",
    "               entry.tags.get('tourism') or                              \n",
    "               entry.tags.get('office') or                              \n",
    "               (entry.tags.get('amenity') in ['marketplace','restaurant','fast_food','cafe','bar','pub']) or\n",
    "\n",
    "               entry.tags.get('aeroway') or \n",
    "               entry.tags.get('highway') or \n",
    "               entry.tags.get('railway') or \n",
    "               (entry.tags.get('building') in ['aerodrome','ferry_terminal','train_station']) or\n",
    "               (entry.tags.get('amenity') in ['ferry_terminal','bus_station']) or\n",
    "               \n",
    "               entry.tags.get('sport') or \n",
    "               (entry.tags.get('leisure') in ['park','stadium, swimming pool, pitch, sport_centre']) or\n",
    "              \n",
    "               entry.tags.get('building')=='public' or \n",
    "               (entry.tags.get('historic')) or                      \n",
    "               (entry.tags.get('amenity') in ['place_of_worship','community_centre','library','toilets']) or\n",
    "               \n",
    "               (entry.tags.get('building')=='warehouse') or \n",
    "               (entry.tags.get('industrial')=='warehouse') or\n",
    "               \n",
    "               (entry.tags.get('amenity') in ['court_house','townhall','embassy','post_office']) or                           \n",
    "               (entry.tags.get('government')) or                             \n",
    "               (entry.tags.get('building')=='civic') or \n",
    "               (entry.tags.get('landuse')=='military') or \n",
    "               (entry.tags.get('office') in ['government','political_party','notary']) or \n",
    "               (entry.tags.get('military')) or \n",
    "               \n",
    "               (entry.tags.get('amenity') in ['atm','bank','bureau_de_change','microfinance','mobile_money_agent','money_transfer']) or\n",
    "\n",
    "               entry.tags.get('emergency') or \n",
    "               (entry.tags.get('amenity') in ['police','fire_station']) or \n",
    "               \n",
    "               (entry.tags.get('amenity') in ['kindergarten','school', 'college', 'university','language_school']) or\n",
    "               (entry.tags.get('office')=='educational_institution') or\n",
    "               \n",
    "               (entry.tags.get('amenity') in ['fuel']) or\n",
    "               \n",
    "               (entry.tags.get('healthcare') or            \n",
    "                entry.tags.get('amenity') in ['doctors', 'dentist', 'clinic', 'toilets', 'hospital', 'pharmacy'] or\n",
    "                entry.tags.get('shop') in ('herbalist','nutrition_supplements'))\n",
    "\n",
    "              ]    \n",
    "    \n",
    "    df = pd.DataFrame(records)\n",
    "    return df\n",
    "\n",
    "  "
   ]
  },
  {
   "cell_type": "code",
   "execution_count": 4,
   "metadata": {
    "code_folding": [
     0,
     146,
     148
    ]
   },
   "outputs": [],
   "source": [
    "def labeling(df):\n",
    "    category = []\n",
    "    subcategory = []\n",
    "    metadata = []\n",
    "    names = []\n",
    "    for i in df['tags']:\n",
    "        meta = []\n",
    "        cat = []\n",
    "        sub = []\n",
    "\n",
    "        if 'amenity' in i.keys():\n",
    "            cat.append('amenity')\n",
    "            sub.append(i['amenity'])\n",
    "            meta.append(i['amenity'])               \n",
    "        elif 'building' in i.keys():\n",
    "            cat.append('building')\n",
    "            sub.append('building')\n",
    "            meta.append(i['building'])                                      \n",
    "        \n",
    "        \n",
    "        #commercial pois\n",
    "        elif 'shop' in i.keys():\n",
    "            cat.append('retail_and_recreation')\n",
    "            sub.append('shop')\n",
    "            meta.append(i['shop'])\n",
    "        elif 'tourism' in i.keys():\n",
    "            cat.append('retail_and_recreation')\n",
    "            sub.append('tourism')        \n",
    "            meta.append(i['tourism'])\n",
    "        elif 'office' in i.keys():\n",
    "            cat.append('workplace')\n",
    "            sub.append('office')\n",
    "            meta.append(i['office'])\n",
    "\n",
    "        #transportation pois\n",
    "        elif 'aeroway' in i.keys():\n",
    "            cat.append('transportation_and_transit')\n",
    "            sub.append('aeroway')\n",
    "            meta.append(i['aeroway'])\n",
    "        elif 'highway' in i.keys():\n",
    "            cat.append('transportation_and_transit')\n",
    "            sub.append('highway')\n",
    "            meta.append(i['highway'])            \n",
    "        elif 'railway' in i.keys():\n",
    "            cat.append('transportation_and_transit')\n",
    "            sub.append('railway')\n",
    "            meta.append(i['railway'])                       \n",
    "\n",
    "        #sport\n",
    "        elif 'sport' in i.keys():\n",
    "            cat.append('retail_and_recreation')\n",
    "            sub.append('sport')\n",
    "            meta.append(i['sport']) \n",
    "            \n",
    "        elif 'leisure' in i.keys():\n",
    "            cat.append('retail_and_recreation')\n",
    "            sub.append('leisure')\n",
    "            meta.append(i['leisure'])             \n",
    "\n",
    "        #public\n",
    "        elif ('building' in i.keys()):\n",
    "            if(i['building']=='public'):\n",
    "                cat.append('public')\n",
    "                sub.append('public_building')\n",
    "                meta.append(i['building'])                   \n",
    "        elif 'historic' in i.keys():\n",
    "            cat.append('public')\n",
    "            sub.append('historic')\n",
    "            meta.append(i['historic'])                      \n",
    "\n",
    "        #warehouse\n",
    "        elif ('building' in i.keys()):\n",
    "            if (i['building']=='warehouse'):\n",
    "                cat.append('warehouse')\n",
    "                sub.append('warehouse')\n",
    "                meta.append(i['building'])   \n",
    "        elif ('industrial' in i.keys()):\n",
    "            if (i['industrial']=='warehouse'):\n",
    "                cat.append('warehouse')\n",
    "                sub.append('warehouse')\n",
    "                meta.append(i['industrial'])               \n",
    "        \n",
    "        #emergency_and_healthcare\n",
    "        elif 'emergency' in i.keys():\n",
    "            cat.append('healthcare')\n",
    "            sub.append('emergency')\n",
    "            meta.append(i['emergency']) \n",
    "        elif 'healthcare' in i.keys():\n",
    "            cat.append('healthcare')\n",
    "            sub.append('healthcare')\n",
    "            meta.append(i['healthcare']) \n",
    "            \n",
    "        #govt\n",
    "        elif 'government' in i.keys():\n",
    "            cat.append('government')\n",
    "            sub.append('government')\n",
    "            meta.append(i['government']) \n",
    "        elif ('building' in i.keys()):\n",
    "            if (i['building']=='civic'):\n",
    "                cat.append('government')\n",
    "                sub.append('civic')\n",
    "                meta.append(i['building'])   \n",
    "            else:\n",
    "                pass\n",
    "        elif 'military' in i.keys():\n",
    "            cat.append('government')\n",
    "            sub.append('military')\n",
    "            meta.append(i['military']) \n",
    "        elif ('landuse' in i.keys()):\n",
    "            if (i['landuse']=='military'):\n",
    "                cat.append('government')\n",
    "                sub.append('military')\n",
    "                meta.append(i['landuse'])\n",
    "            else:\n",
    "                pass\n",
    "        elif ('office' in i.keys()):\n",
    "            if (i['office'] in ['government','political_party','notary']):\n",
    "                cat.append('government')\n",
    "                sub.append('office')\n",
    "                meta.append(i['office']) \n",
    "            else:\n",
    "                pass\n",
    "                \n",
    "        \n",
    "\n",
    "\n",
    "            \n",
    "        #education\n",
    "        elif ('office' in i.keys()):\n",
    "            if (i['office']=='educational_institution'):\n",
    "                cat.append('education')\n",
    "                sub.append('office')\n",
    "                meta.append(i['office']) \n",
    "            else:\n",
    "                pass\n",
    "            \n",
    "        else:\n",
    "            if cat == []:\n",
    "                cat.append(None)\n",
    "            if sub == []:\n",
    "                sub.append(None)\n",
    "            if meta == []:\n",
    "                meta.append(None)\n",
    "        category.append(cat)\n",
    "        subcategory.append(sub)\n",
    "        metadata.append(meta)\n",
    "        if 'name' in i.keys():\n",
    "            names.append(i['name'])\n",
    "        else:\n",
    "            names.append(None)\n",
    "    df['name'] = names\n",
    "    df['category'] = category\n",
    "    df['subcategory'] = subcategory\n",
    "    df['metadata'] = metadata\n",
    "    df['id'] = df['id'].astype(str)\n",
    "    return df"
   ]
  },
  {
   "cell_type": "code",
   "execution_count": 5,
   "metadata": {
    "code_folding": []
   },
   "outputs": [],
   "source": [
    "def read_shapefile(country):\n",
    "    filenames = []\n",
    "    path = f'/Users/mahamfaisalkhan/repos/world-bank/covid_local/data/osm/{country}/{country}-latest-free.shp/'\n",
    "    for file in os.listdir(path):\n",
    "        if file.endswith('.shp'):\n",
    "            filenames.append(file)\n",
    "\n",
    "    lengths = []\n",
    "    shp=pd.DataFrame([])\n",
    "    for i in filenames:\n",
    "        temp = []\n",
    "        temp = (gpd.read_file(path+i))\n",
    "        print(i,len(temp))\n",
    "        lengths.append(temp)\n",
    "        shp = pd.concat([shp,temp],ignore_index=True)\n",
    "\n",
    "    return shp"
   ]
  },
  {
   "cell_type": "markdown",
   "metadata": {},
   "source": [
    "## Running master functions"
   ]
  },
  {
   "cell_type": "markdown",
   "metadata": {},
   "source": [
    "### Vietnam"
   ]
  },
  {
   "cell_type": "code",
   "execution_count": 7,
   "metadata": {},
   "outputs": [
    {
     "name": "stdout",
     "output_type": "stream",
     "text": [
      "gis_osm_landuse_a_free_1.shp 22855\n",
      "gis_osm_natural_free_1.shp 4532\n",
      "gis_osm_buildings_a_free_1.shp 503779\n"
     ]
    },
    {
     "name": "stderr",
     "output_type": "stream",
     "text": [
      "<ipython-input-6-49de46f1610e>:15: FutureWarning: Sorting because non-concatenation axis is not aligned. A future version\n",
      "of pandas will change to not sort by default.\n",
      "\n",
      "To accept the future behavior, pass 'sort=False'.\n",
      "\n",
      "To retain the current behavior and silence the warning, pass 'sort=True'.\n",
      "\n",
      "  shp = pd.concat([shp,temp],ignore_index=True)\n"
     ]
    },
    {
     "name": "stdout",
     "output_type": "stream",
     "text": [
      "gis_osm_waterways_free_1.shp 19229\n",
      "gis_osm_pofw_free_1.shp 736\n",
      "gis_osm_water_a_free_1.shp 19586\n",
      "gis_osm_transport_free_1.shp 5508\n",
      "gis_osm_places_a_free_1.shp 365\n",
      "gis_osm_natural_a_free_1.shp 333\n",
      "gis_osm_places_free_1.shp 6735\n",
      "gis_osm_pofw_a_free_1.shp 1768\n",
      "gis_osm_pois_free_1.shp 54443\n",
      "gis_osm_traffic_a_free_1.shp 1352\n",
      "gis_osm_traffic_free_1.shp 26130\n",
      "gis_osm_railways_free_1.shp 2263\n",
      "gis_osm_transport_a_free_1.shp 113\n",
      "gis_osm_pois_a_free_1.shp 13595\n",
      "gis_osm_roads_free_1.shp 846842\n"
     ]
    }
   ],
   "source": [
    "shp = read_shapefile('vietnam')"
   ]
  },
  {
   "cell_type": "code",
   "execution_count": 8,
   "metadata": {},
   "outputs": [
    {
     "data": {
      "text/plain": [
       "1530164"
      ]
     },
     "execution_count": 8,
     "metadata": {},
     "output_type": "execute_result"
    }
   ],
   "source": [
    "len(shp)"
   ]
  },
  {
   "cell_type": "code",
   "execution_count": 9,
   "metadata": {},
   "outputs": [
    {
     "name": "stdout",
     "output_type": "stream",
     "text": [
      "CPU times: user 2min 1s, sys: 5.87 s, total: 2min 7s\n",
      "Wall time: 2min 32s\n"
     ]
    },
    {
     "data": {
      "text/html": [
       "<div>\n",
       "<style scoped>\n",
       "    .dataframe tbody tr th:only-of-type {\n",
       "        vertical-align: middle;\n",
       "    }\n",
       "\n",
       "    .dataframe tbody tr th {\n",
       "        vertical-align: top;\n",
       "    }\n",
       "\n",
       "    .dataframe thead th {\n",
       "        text-align: right;\n",
       "    }\n",
       "</style>\n",
       "<table border=\"1\" class=\"dataframe\">\n",
       "  <thead>\n",
       "    <tr style=\"text-align: right;\">\n",
       "      <th></th>\n",
       "      <th>id</th>\n",
       "      <th>tags</th>\n",
       "      <th>lonlat</th>\n",
       "      <th>name</th>\n",
       "      <th>category</th>\n",
       "      <th>subcategory</th>\n",
       "      <th>metadata</th>\n",
       "    </tr>\n",
       "  </thead>\n",
       "  <tbody>\n",
       "    <tr>\n",
       "      <th>0</th>\n",
       "      <td>81794043</td>\n",
       "      <td>{'crossing': 'traffic_signals', 'highway': 'tr...</td>\n",
       "      <td>(105.84748279999992, 21.030446899999998)</td>\n",
       "      <td>None</td>\n",
       "      <td>transportation_and_transit</td>\n",
       "      <td>highway</td>\n",
       "      <td>traffic_signals</td>\n",
       "    </tr>\n",
       "    <tr>\n",
       "      <th>1</th>\n",
       "      <td>81795094</td>\n",
       "      <td>{'crossing': 'uncontrolled', 'highway': 'cross...</td>\n",
       "      <td>(105.85067549999994, 21.034078600000004)</td>\n",
       "      <td>None</td>\n",
       "      <td>transportation_and_transit</td>\n",
       "      <td>highway</td>\n",
       "      <td>crossing</td>\n",
       "    </tr>\n",
       "    <tr>\n",
       "      <th>2</th>\n",
       "      <td>81799489</td>\n",
       "      <td>{'railway': 'switch', 'source': 'Bing'}</td>\n",
       "      <td>(105.84088219999994, 21.020905500000005)</td>\n",
       "      <td>None</td>\n",
       "      <td>transportation_and_transit</td>\n",
       "      <td>railway</td>\n",
       "      <td>switch</td>\n",
       "    </tr>\n",
       "    <tr>\n",
       "      <th>3</th>\n",
       "      <td>81799495</td>\n",
       "      <td>{'railway': 'level_crossing'}</td>\n",
       "      <td>(105.84120839999994, 21.027667600000004)</td>\n",
       "      <td>None</td>\n",
       "      <td>transportation_and_transit</td>\n",
       "      <td>railway</td>\n",
       "      <td>level_crossing</td>\n",
       "    </tr>\n",
       "    <tr>\n",
       "      <th>4</th>\n",
       "      <td>81800150</td>\n",
       "      <td>{'railway': 'switch', 'source': 'Bing'}</td>\n",
       "      <td>(105.84085319999994, 21.021358700000004)</td>\n",
       "      <td>None</td>\n",
       "      <td>transportation_and_transit</td>\n",
       "      <td>railway</td>\n",
       "      <td>switch</td>\n",
       "    </tr>\n",
       "  </tbody>\n",
       "</table>\n",
       "</div>"
      ],
      "text/plain": [
       "         id                                               tags  \\\n",
       "0  81794043  {'crossing': 'traffic_signals', 'highway': 'tr...   \n",
       "1  81795094  {'crossing': 'uncontrolled', 'highway': 'cross...   \n",
       "2  81799489            {'railway': 'switch', 'source': 'Bing'}   \n",
       "3  81799495                      {'railway': 'level_crossing'}   \n",
       "4  81800150            {'railway': 'switch', 'source': 'Bing'}   \n",
       "\n",
       "                                     lonlat  name                    category  \\\n",
       "0  (105.84748279999992, 21.030446899999998)  None  transportation_and_transit   \n",
       "1  (105.85067549999994, 21.034078600000004)  None  transportation_and_transit   \n",
       "2  (105.84088219999994, 21.020905500000005)  None  transportation_and_transit   \n",
       "3  (105.84120839999994, 21.027667600000004)  None  transportation_and_transit   \n",
       "4  (105.84085319999994, 21.021358700000004)  None  transportation_and_transit   \n",
       "\n",
       "  subcategory         metadata  \n",
       "0     highway  traffic_signals  \n",
       "1     highway         crossing  \n",
       "2     railway           switch  \n",
       "3     railway   level_crossing  \n",
       "4     railway           switch  "
      ]
     },
     "execution_count": 9,
     "metadata": {},
     "output_type": "execute_result"
    }
   ],
   "source": [
    "%%time\n",
    "country = 'vietnam'\n",
    "path = f'/Users/mahamfaisalkhan/repos/world-bank/covid_local/data/osm/{country}_pois/{country}-latest-free.shp/'\n",
    "f = os.path.join(f'/Users/mahamfaisalkhan/repos/world-bank/covid_local/data/osm/{country}-latest.osm.pbf')\n",
    "\n",
    "df = master_function(f,country)\n",
    "labeled = labeling(df).explode('metadata').explode('subcategory').explode('category')\n",
    "labeled.head()"
   ]
  },
  {
   "cell_type": "code",
   "execution_count": 10,
   "metadata": {},
   "outputs": [
    {
     "name": "stdout",
     "output_type": "stream",
     "text": [
      "CPU times: user 2.33 s, sys: 748 ms, total: 3.08 s\n",
      "Wall time: 4.03 s\n"
     ]
    }
   ],
   "source": [
    "%%time\n",
    "merge = pd.merge(labeled,shp[['osm_id','geometry']],right_on='osm_id',left_on='id',how='left')"
   ]
  },
  {
   "cell_type": "code",
   "execution_count": 11,
   "metadata": {},
   "outputs": [
    {
     "data": {
      "text/plain": [
       "0.9892481580623281"
      ]
     },
     "execution_count": 11,
     "metadata": {},
     "output_type": "execute_result"
    }
   ],
   "source": [
    "len(merge.dropna(subset=['geometry']))/len(merge)#['geometry'].isnull().sum()/len(merge)"
   ]
  },
  {
   "cell_type": "code",
   "execution_count": 12,
   "metadata": {},
   "outputs": [],
   "source": [
    "data = merge.dropna(subset=['geometry'])[['id','name','category','subcategory','metadata','geometry','tags']]"
   ]
  },
  {
   "cell_type": "code",
   "execution_count": 13,
   "metadata": {},
   "outputs": [
    {
     "data": {
      "text/html": [
       "<div>\n",
       "<style scoped>\n",
       "    .dataframe tbody tr th:only-of-type {\n",
       "        vertical-align: middle;\n",
       "    }\n",
       "\n",
       "    .dataframe tbody tr th {\n",
       "        vertical-align: top;\n",
       "    }\n",
       "\n",
       "    .dataframe thead th {\n",
       "        text-align: right;\n",
       "    }\n",
       "</style>\n",
       "<table border=\"1\" class=\"dataframe\">\n",
       "  <thead>\n",
       "    <tr style=\"text-align: right;\">\n",
       "      <th></th>\n",
       "      <th>id</th>\n",
       "      <th>name</th>\n",
       "      <th>category</th>\n",
       "      <th>subcategory</th>\n",
       "      <th>metadata</th>\n",
       "      <th>geometry</th>\n",
       "      <th>tags</th>\n",
       "    </tr>\n",
       "  </thead>\n",
       "  <tbody>\n",
       "    <tr>\n",
       "      <th>0</th>\n",
       "      <td>81794043</td>\n",
       "      <td>None</td>\n",
       "      <td>transportation_and_transit</td>\n",
       "      <td>highway</td>\n",
       "      <td>traffic_signals</td>\n",
       "      <td>POINT (105.84748 21.03045)</td>\n",
       "      <td>{'crossing': 'traffic_signals', 'highway': 'tr...</td>\n",
       "    </tr>\n",
       "    <tr>\n",
       "      <th>1</th>\n",
       "      <td>81795094</td>\n",
       "      <td>None</td>\n",
       "      <td>transportation_and_transit</td>\n",
       "      <td>highway</td>\n",
       "      <td>crossing</td>\n",
       "      <td>POINT (105.85068 21.03408)</td>\n",
       "      <td>{'crossing': 'uncontrolled', 'highway': 'cross...</td>\n",
       "    </tr>\n",
       "    <tr>\n",
       "      <th>3</th>\n",
       "      <td>81799495</td>\n",
       "      <td>None</td>\n",
       "      <td>transportation_and_transit</td>\n",
       "      <td>railway</td>\n",
       "      <td>level_crossing</td>\n",
       "      <td>POINT (105.84121 21.02767)</td>\n",
       "      <td>{'railway': 'level_crossing'}</td>\n",
       "    </tr>\n",
       "    <tr>\n",
       "      <th>7</th>\n",
       "      <td>82565026</td>\n",
       "      <td>None</td>\n",
       "      <td>transportation_and_transit</td>\n",
       "      <td>railway</td>\n",
       "      <td>level_crossing</td>\n",
       "      <td>POINT (105.84126 21.01075)</td>\n",
       "      <td>{'crossing:barrier': 'full', 'crossing:light':...</td>\n",
       "    </tr>\n",
       "    <tr>\n",
       "      <th>8</th>\n",
       "      <td>82566014</td>\n",
       "      <td>None</td>\n",
       "      <td>transportation_and_transit</td>\n",
       "      <td>railway</td>\n",
       "      <td>level_crossing</td>\n",
       "      <td>POINT (105.84066 20.97219)</td>\n",
       "      <td>{'railway': 'level_crossing'}</td>\n",
       "    </tr>\n",
       "  </tbody>\n",
       "</table>\n",
       "</div>"
      ],
      "text/plain": [
       "         id  name                    category subcategory         metadata  \\\n",
       "0  81794043  None  transportation_and_transit     highway  traffic_signals   \n",
       "1  81795094  None  transportation_and_transit     highway         crossing   \n",
       "3  81799495  None  transportation_and_transit     railway   level_crossing   \n",
       "7  82565026  None  transportation_and_transit     railway   level_crossing   \n",
       "8  82566014  None  transportation_and_transit     railway   level_crossing   \n",
       "\n",
       "                     geometry  \\\n",
       "0  POINT (105.84748 21.03045)   \n",
       "1  POINT (105.85068 21.03408)   \n",
       "3  POINT (105.84121 21.02767)   \n",
       "7  POINT (105.84126 21.01075)   \n",
       "8  POINT (105.84066 20.97219)   \n",
       "\n",
       "                                                tags  \n",
       "0  {'crossing': 'traffic_signals', 'highway': 'tr...  \n",
       "1  {'crossing': 'uncontrolled', 'highway': 'cross...  \n",
       "3                      {'railway': 'level_crossing'}  \n",
       "7  {'crossing:barrier': 'full', 'crossing:light':...  \n",
       "8                      {'railway': 'level_crossing'}  "
      ]
     },
     "execution_count": 13,
     "metadata": {},
     "output_type": "execute_result"
    }
   ],
   "source": [
    "data.head()"
   ]
  },
  {
   "cell_type": "code",
   "execution_count": 14,
   "metadata": {},
   "outputs": [
    {
     "data": {
      "text/plain": [
       "948697"
      ]
     },
     "execution_count": 14,
     "metadata": {},
     "output_type": "execute_result"
    }
   ],
   "source": [
    "len(data.drop_duplicates(subset=['id']))"
   ]
  },
  {
   "cell_type": "code",
   "execution_count": 15,
   "metadata": {},
   "outputs": [
    {
     "data": {
      "text/plain": [
       "955312"
      ]
     },
     "execution_count": 15,
     "metadata": {},
     "output_type": "execute_result"
    }
   ],
   "source": [
    "len(data)"
   ]
  },
  {
   "cell_type": "code",
   "execution_count": 16,
   "metadata": {},
   "outputs": [
    {
     "data": {
      "text/plain": [
       "array([<class 'shapely.geometry.point.Point'>,\n",
       "       <class 'shapely.geometry.linestring.LineString'>,\n",
       "       <class 'shapely.geometry.multipolygon.MultiPolygon'>,\n",
       "       <class 'shapely.geometry.polygon.Polygon'>], dtype=object)"
      ]
     },
     "execution_count": 16,
     "metadata": {},
     "output_type": "execute_result"
    }
   ],
   "source": [
    "data['geometry'].apply(lambda x: type(x)).unique()"
   ]
  },
  {
   "cell_type": "code",
   "execution_count": 17,
   "metadata": {},
   "outputs": [],
   "source": [
    "data.to_csv(f'{country}_pois.csv')"
   ]
  },
  {
   "cell_type": "code",
   "execution_count": 1,
   "metadata": {},
   "outputs": [],
   "source": [
    "from shapely import wkt"
   ]
  },
  {
   "cell_type": "code",
   "execution_count": 25,
   "metadata": {},
   "outputs": [],
   "source": [
    "vietnam = pd.read_csv('../data/osm/vietnam_pois/vietnam_pois.csv',index_col=0)"
   ]
  },
  {
   "cell_type": "code",
   "execution_count": 32,
   "metadata": {},
   "outputs": [],
   "source": [
    "vietnam['geometry'] = vietnam['geometry'].apply(wkt.loads)"
   ]
  },
  {
   "cell_type": "code",
   "execution_count": 29,
   "metadata": {},
   "outputs": [],
   "source": [
    "gadm2 = gpd.read_file('../../covid-analytics/data/boundaries/vietnam/gadm36_VNM_shp/gadm36_VNM_1.shp')"
   ]
  },
  {
   "cell_type": "code",
   "execution_count": 33,
   "metadata": {},
   "outputs": [],
   "source": []
  },
  {
   "cell_type": "code",
   "execution_count": 34,
   "metadata": {},
   "outputs": [],
   "source": [
    "vietnam = gpd.GeoDataFrame(vietnam,geometry=vietnam.geometry,crs=gadm2.crs)"
   ]
  },
  {
   "cell_type": "code",
   "execution_count": 41,
   "metadata": {},
   "outputs": [
    {
     "data": {
      "text/plain": [
       "<matplotlib.axes._subplots.AxesSubplot at 0x12fe3c880>"
      ]
     },
     "execution_count": 41,
     "metadata": {},
     "output_type": "execute_result"
    },
    {
     "data": {
      "image/png": "[encoded data removed]",
      "text/plain": [
       "<Figure size 432x288 with 1 Axes>"
      ]
     },
     "metadata": {
      "needs_background": "light"
     },
     "output_type": "display_data"
    }
   ],
   "source": [
    "gadm2[gadm2['VARNAME_1']=='Da Nang'].plot()"
   ]
  },
  {
   "cell_type": "code",
   "execution_count": 43,
   "metadata": {},
   "outputs": [],
   "source": [
    "danang = vietnam[vietnam.within(gadm2[gadm2['VARNAME_1']=='Da Nang'].geometry.squeeze())]"
   ]
  },
  {
   "cell_type": "code",
   "execution_count": 46,
   "metadata": {},
   "outputs": [],
   "source": [
    "danang.to_csv('danang.csv')"
   ]
  },
  {
   "cell_type": "markdown",
   "metadata": {
    "heading_collapsed": true
   },
   "source": [
    "### Mexico"
   ]
  },
  {
   "cell_type": "code",
   "execution_count": 240,
   "metadata": {
    "hidden": true
   },
   "outputs": [
    {
     "name": "stdout",
     "output_type": "stream",
     "text": [
      "gis_osm_landuse_a_free_1.shp 143468\n",
      "gis_osm_natural_free_1.shp 32581\n",
      "gis_osm_buildings_a_free_1.shp 1098324\n"
     ]
    },
    {
     "name": "stderr",
     "output_type": "stream",
     "text": [
      "<ipython-input-152-49de46f1610e>:15: FutureWarning: Sorting because non-concatenation axis is not aligned. A future version\n",
      "of pandas will change to not sort by default.\n",
      "\n",
      "To accept the future behavior, pass 'sort=False'.\n",
      "\n",
      "To retain the current behavior and silence the warning, pass 'sort=True'.\n",
      "\n",
      "  shp = pd.concat([shp,temp],ignore_index=True)\n"
     ]
    },
    {
     "name": "stdout",
     "output_type": "stream",
     "text": [
      "gis_osm_waterways_free_1.shp 67726\n",
      "gis_osm_pofw_free_1.shp 3432\n",
      "gis_osm_water_a_free_1.shp 38330\n",
      "gis_osm_transport_free_1.shp 8703\n",
      "gis_osm_places_a_free_1.shp 2220\n",
      "gis_osm_natural_a_free_1.shp 769\n",
      "gis_osm_places_free_1.shp 49550\n",
      "gis_osm_pofw_a_free_1.shp 4123\n",
      "gis_osm_pois_free_1.shp 113813\n",
      "gis_osm_traffic_a_free_1.shp 17607\n",
      "gis_osm_traffic_free_1.shp 56793\n",
      "gis_osm_railways_free_1.shp 9283\n",
      "gis_osm_transport_a_free_1.shp 786\n",
      "gis_osm_pois_a_free_1.shp 111282\n",
      "gis_osm_roads_free_1.shp 2871280\n"
     ]
    }
   ],
   "source": [
    "shp = read_shapefile('mexico')"
   ]
  },
  {
   "cell_type": "code",
   "execution_count": 241,
   "metadata": {
    "hidden": true
   },
   "outputs": [
    {
     "data": {
      "text/plain": [
       "4630070"
      ]
     },
     "execution_count": 241,
     "metadata": {},
     "output_type": "execute_result"
    }
   ],
   "source": [
    "len(shp)"
   ]
  },
  {
   "cell_type": "code",
   "execution_count": 245,
   "metadata": {
    "hidden": true
   },
   "outputs": [
    {
     "name": "stdout",
     "output_type": "stream",
     "text": [
      "CPU times: user 6min 19s, sys: 8min 21s, total: 14min 41s\n",
      "Wall time: 33min 1s\n"
     ]
    },
    {
     "data": {
      "text/html": [
       "<div>\n",
       "<style scoped>\n",
       "    .dataframe tbody tr th:only-of-type {\n",
       "        vertical-align: middle;\n",
       "    }\n",
       "\n",
       "    .dataframe tbody tr th {\n",
       "        vertical-align: top;\n",
       "    }\n",
       "\n",
       "    .dataframe thead th {\n",
       "        text-align: right;\n",
       "    }\n",
       "</style>\n",
       "<table border=\"1\" class=\"dataframe\">\n",
       "  <thead>\n",
       "    <tr style=\"text-align: right;\">\n",
       "      <th></th>\n",
       "      <th>id</th>\n",
       "      <th>tags</th>\n",
       "      <th>lonlat</th>\n",
       "      <th>name</th>\n",
       "      <th>category</th>\n",
       "      <th>subcategory</th>\n",
       "      <th>metadata</th>\n",
       "    </tr>\n",
       "  </thead>\n",
       "  <tbody>\n",
       "    <tr>\n",
       "      <th>0</th>\n",
       "      <td>26514653</td>\n",
       "      <td>{'highway': 'traffic_signals'}</td>\n",
       "      <td>(-106.42879520000001, 23.2270703)</td>\n",
       "      <td>None</td>\n",
       "      <td>transportation_and_transit</td>\n",
       "      <td>highway</td>\n",
       "      <td>traffic_signals</td>\n",
       "    </tr>\n",
       "    <tr>\n",
       "      <th>1</th>\n",
       "      <td>28774831</td>\n",
       "      <td>{'highway': 'traffic_signals', 'traffic_signal...</td>\n",
       "      <td>(-103.31705810000001, 20.7031222)</td>\n",
       "      <td>None</td>\n",
       "      <td>transportation_and_transit</td>\n",
       "      <td>highway</td>\n",
       "      <td>traffic_signals</td>\n",
       "    </tr>\n",
       "    <tr>\n",
       "      <th>2</th>\n",
       "      <td>28774889</td>\n",
       "      <td>{'highway': 'traffic_signals', 'traffic_signal...</td>\n",
       "      <td>(-103.3151198, 20.706064899999998)</td>\n",
       "      <td>None</td>\n",
       "      <td>transportation_and_transit</td>\n",
       "      <td>highway</td>\n",
       "      <td>traffic_signals</td>\n",
       "    </tr>\n",
       "    <tr>\n",
       "      <th>3</th>\n",
       "      <td>28776032</td>\n",
       "      <td>{'highway': 'traffic_signals', 'traffic_signal...</td>\n",
       "      <td>(-103.3137255, 20.7079174)</td>\n",
       "      <td>None</td>\n",
       "      <td>transportation_and_transit</td>\n",
       "      <td>highway</td>\n",
       "      <td>traffic_signals</td>\n",
       "    </tr>\n",
       "    <tr>\n",
       "      <th>4</th>\n",
       "      <td>28776223</td>\n",
       "      <td>{'highway': 'traffic_signals', 'traffic_signal...</td>\n",
       "      <td>(-103.3136154, 20.7080216)</td>\n",
       "      <td>None</td>\n",
       "      <td>transportation_and_transit</td>\n",
       "      <td>highway</td>\n",
       "      <td>traffic_signals</td>\n",
       "    </tr>\n",
       "  </tbody>\n",
       "</table>\n",
       "</div>"
      ],
      "text/plain": [
       "         id                                               tags  \\\n",
       "0  26514653                     {'highway': 'traffic_signals'}   \n",
       "1  28774831  {'highway': 'traffic_signals', 'traffic_signal...   \n",
       "2  28774889  {'highway': 'traffic_signals', 'traffic_signal...   \n",
       "3  28776032  {'highway': 'traffic_signals', 'traffic_signal...   \n",
       "4  28776223  {'highway': 'traffic_signals', 'traffic_signal...   \n",
       "\n",
       "                               lonlat  name                    category  \\\n",
       "0   (-106.42879520000001, 23.2270703)  None  transportation_and_transit   \n",
       "1   (-103.31705810000001, 20.7031222)  None  transportation_and_transit   \n",
       "2  (-103.3151198, 20.706064899999998)  None  transportation_and_transit   \n",
       "3          (-103.3137255, 20.7079174)  None  transportation_and_transit   \n",
       "4          (-103.3136154, 20.7080216)  None  transportation_and_transit   \n",
       "\n",
       "  subcategory         metadata  \n",
       "0     highway  traffic_signals  \n",
       "1     highway  traffic_signals  \n",
       "2     highway  traffic_signals  \n",
       "3     highway  traffic_signals  \n",
       "4     highway  traffic_signals  "
      ]
     },
     "execution_count": 245,
     "metadata": {},
     "output_type": "execute_result"
    }
   ],
   "source": [
    "%%time\n",
    "country = 'mexico'\n",
    "path = f'/Users/mahamfaisalkhan/repos/world-bank/covid_local/data/osm/{country}_pois/{country}-latest-free.shp/'\n",
    "f = os.path.join(f'/Users/mahamfaisalkhan/repos/world-bank/covid_local/data/osm/{country}-latest.osm.pbf')\n",
    "\n",
    "df = master_function(f,country)\n",
    "labeled = labeling(df).explode('metadata').explode('subcategory').explode('category')\n",
    "labeled.head()"
   ]
  },
  {
   "cell_type": "code",
   "execution_count": 246,
   "metadata": {
    "hidden": true
   },
   "outputs": [
    {
     "name": "stdout",
     "output_type": "stream",
     "text": [
      "CPU times: user 26.4 s, sys: 2min 47s, total: 3min 13s\n",
      "Wall time: 8min 24s\n"
     ]
    }
   ],
   "source": [
    "%%time\n",
    "merge = pd.merge(labeled,shp[['osm_id','geometry']],right_on='osm_id',left_on='id',how='left')"
   ]
  },
  {
   "cell_type": "code",
   "execution_count": 247,
   "metadata": {
    "hidden": true
   },
   "outputs": [
    {
     "data": {
      "text/plain": [
       "0.9882403781494165"
      ]
     },
     "execution_count": 247,
     "metadata": {},
     "output_type": "execute_result"
    }
   ],
   "source": [
    "len(merge.dropna(subset=['geometry']))/len(merge)#['geometry'].isnull().sum()/len(merge)"
   ]
  },
  {
   "cell_type": "code",
   "execution_count": 248,
   "metadata": {
    "hidden": true
   },
   "outputs": [],
   "source": [
    "data = merge.dropna(subset=['geometry'])[['id','name','category','subcategory','metadata','geometry','tags']]"
   ]
  },
  {
   "cell_type": "code",
   "execution_count": 249,
   "metadata": {
    "hidden": true
   },
   "outputs": [
    {
     "data": {
      "text/html": [
       "<div>\n",
       "<style scoped>\n",
       "    .dataframe tbody tr th:only-of-type {\n",
       "        vertical-align: middle;\n",
       "    }\n",
       "\n",
       "    .dataframe tbody tr th {\n",
       "        vertical-align: top;\n",
       "    }\n",
       "\n",
       "    .dataframe thead th {\n",
       "        text-align: right;\n",
       "    }\n",
       "</style>\n",
       "<table border=\"1\" class=\"dataframe\">\n",
       "  <thead>\n",
       "    <tr style=\"text-align: right;\">\n",
       "      <th></th>\n",
       "      <th>id</th>\n",
       "      <th>name</th>\n",
       "      <th>category</th>\n",
       "      <th>subcategory</th>\n",
       "      <th>metadata</th>\n",
       "      <th>geometry</th>\n",
       "      <th>tags</th>\n",
       "    </tr>\n",
       "  </thead>\n",
       "  <tbody>\n",
       "    <tr>\n",
       "      <th>0</th>\n",
       "      <td>26514653</td>\n",
       "      <td>None</td>\n",
       "      <td>transportation_and_transit</td>\n",
       "      <td>highway</td>\n",
       "      <td>traffic_signals</td>\n",
       "      <td>POINT (-106.42880 23.22707)</td>\n",
       "      <td>{'highway': 'traffic_signals'}</td>\n",
       "    </tr>\n",
       "    <tr>\n",
       "      <th>1</th>\n",
       "      <td>28774831</td>\n",
       "      <td>None</td>\n",
       "      <td>transportation_and_transit</td>\n",
       "      <td>highway</td>\n",
       "      <td>traffic_signals</td>\n",
       "      <td>POINT (-103.31706 20.70312)</td>\n",
       "      <td>{'highway': 'traffic_signals', 'traffic_signal...</td>\n",
       "    </tr>\n",
       "    <tr>\n",
       "      <th>2</th>\n",
       "      <td>28774889</td>\n",
       "      <td>None</td>\n",
       "      <td>transportation_and_transit</td>\n",
       "      <td>highway</td>\n",
       "      <td>traffic_signals</td>\n",
       "      <td>POINT (-103.31512 20.70606)</td>\n",
       "      <td>{'highway': 'traffic_signals', 'traffic_signal...</td>\n",
       "    </tr>\n",
       "    <tr>\n",
       "      <th>3</th>\n",
       "      <td>28776032</td>\n",
       "      <td>None</td>\n",
       "      <td>transportation_and_transit</td>\n",
       "      <td>highway</td>\n",
       "      <td>traffic_signals</td>\n",
       "      <td>POINT (-103.31373 20.70792)</td>\n",
       "      <td>{'highway': 'traffic_signals', 'traffic_signal...</td>\n",
       "    </tr>\n",
       "    <tr>\n",
       "      <th>4</th>\n",
       "      <td>28776223</td>\n",
       "      <td>None</td>\n",
       "      <td>transportation_and_transit</td>\n",
       "      <td>highway</td>\n",
       "      <td>traffic_signals</td>\n",
       "      <td>POINT (-103.31362 20.70802)</td>\n",
       "      <td>{'highway': 'traffic_signals', 'traffic_signal...</td>\n",
       "    </tr>\n",
       "  </tbody>\n",
       "</table>\n",
       "</div>"
      ],
      "text/plain": [
       "         id  name                    category subcategory         metadata  \\\n",
       "0  26514653  None  transportation_and_transit     highway  traffic_signals   \n",
       "1  28774831  None  transportation_and_transit     highway  traffic_signals   \n",
       "2  28774889  None  transportation_and_transit     highway  traffic_signals   \n",
       "3  28776032  None  transportation_and_transit     highway  traffic_signals   \n",
       "4  28776223  None  transportation_and_transit     highway  traffic_signals   \n",
       "\n",
       "                      geometry  \\\n",
       "0  POINT (-106.42880 23.22707)   \n",
       "1  POINT (-103.31706 20.70312)   \n",
       "2  POINT (-103.31512 20.70606)   \n",
       "3  POINT (-103.31373 20.70792)   \n",
       "4  POINT (-103.31362 20.70802)   \n",
       "\n",
       "                                                tags  \n",
       "0                     {'highway': 'traffic_signals'}  \n",
       "1  {'highway': 'traffic_signals', 'traffic_signal...  \n",
       "2  {'highway': 'traffic_signals', 'traffic_signal...  \n",
       "3  {'highway': 'traffic_signals', 'traffic_signal...  \n",
       "4  {'highway': 'traffic_signals', 'traffic_signal...  "
      ]
     },
     "execution_count": 249,
     "metadata": {},
     "output_type": "execute_result"
    }
   ],
   "source": [
    "data.head()"
   ]
  },
  {
   "cell_type": "code",
   "execution_count": 250,
   "metadata": {
    "hidden": true
   },
   "outputs": [
    {
     "data": {
      "text/plain": [
       "3161271"
      ]
     },
     "execution_count": 250,
     "metadata": {},
     "output_type": "execute_result"
    }
   ],
   "source": [
    "len(data.drop_duplicates(subset=['id']))"
   ]
  },
  {
   "cell_type": "code",
   "execution_count": 251,
   "metadata": {
    "hidden": true
   },
   "outputs": [
    {
     "data": {
      "text/plain": [
       "3219868"
      ]
     },
     "execution_count": 251,
     "metadata": {},
     "output_type": "execute_result"
    }
   ],
   "source": [
    "len(data)"
   ]
  },
  {
   "cell_type": "code",
   "execution_count": 252,
   "metadata": {
    "hidden": true
   },
   "outputs": [
    {
     "data": {
      "text/plain": [
       "array([<class 'shapely.geometry.point.Point'>,\n",
       "       <class 'shapely.geometry.linestring.LineString'>,\n",
       "       <class 'shapely.geometry.polygon.Polygon'>,\n",
       "       <class 'shapely.geometry.multipolygon.MultiPolygon'>], dtype=object)"
      ]
     },
     "execution_count": 252,
     "metadata": {},
     "output_type": "execute_result"
    }
   ],
   "source": [
    "data['geometry'].apply(lambda x: type(x)).unique()"
   ]
  },
  {
   "cell_type": "code",
   "execution_count": 253,
   "metadata": {
    "hidden": true
   },
   "outputs": [],
   "source": [
    "data.to_csv(f'{country}_pois.csv')"
   ]
  },
  {
   "cell_type": "code",
   "execution_count": 218,
   "metadata": {
    "hidden": true
   },
   "outputs": [],
   "source": [
    "# merge.iloc[:808151,:][merge.iloc[:808151,'geometry']==None]"
   ]
  },
  {
   "cell_type": "markdown",
   "metadata": {
    "heading_collapsed": true
   },
   "source": [
    "### Colombia"
   ]
  },
  {
   "cell_type": "code",
   "execution_count": 153,
   "metadata": {
    "hidden": true
   },
   "outputs": [
    {
     "name": "stdout",
     "output_type": "stream",
     "text": [
      "gis_osm_landuse_a_free_1.shp 99108\n",
      "gis_osm_natural_free_1.shp 38557\n",
      "gis_osm_buildings_a_free_1.shp 1535000\n"
     ]
    },
    {
     "name": "stderr",
     "output_type": "stream",
     "text": [
      "<ipython-input-152-49de46f1610e>:15: FutureWarning: Sorting because non-concatenation axis is not aligned. A future version\n",
      "of pandas will change to not sort by default.\n",
      "\n",
      "To accept the future behavior, pass 'sort=False'.\n",
      "\n",
      "To retain the current behavior and silence the warning, pass 'sort=True'.\n",
      "\n",
      "  shp = pd.concat([shp,temp],ignore_index=True)\n"
     ]
    },
    {
     "name": "stdout",
     "output_type": "stream",
     "text": [
      "gis_osm_waterways_free_1.shp 32581\n",
      "gis_osm_pofw_free_1.shp 1355\n",
      "gis_osm_water_a_free_1.shp 24613\n",
      "gis_osm_transport_free_1.shp 4855\n",
      "gis_osm_places_a_free_1.shp 940\n",
      "gis_osm_natural_a_free_1.shp 609\n",
      "gis_osm_places_free_1.shp 48428\n",
      "gis_osm_pofw_a_free_1.shp 2419\n",
      "gis_osm_pois_free_1.shp 69916\n",
      "gis_osm_traffic_a_free_1.shp 6720\n",
      "gis_osm_traffic_free_1.shp 22312\n",
      "gis_osm_railways_free_1.shp 805\n",
      "gis_osm_transport_a_free_1.shp 693\n",
      "gis_osm_pois_a_free_1.shp 51759\n",
      "gis_osm_roads_free_1.shp 615721\n"
     ]
    }
   ],
   "source": [
    "shp = read_shapefile('colombia')"
   ]
  },
  {
   "cell_type": "code",
   "execution_count": 155,
   "metadata": {
    "hidden": true
   },
   "outputs": [
    {
     "data": {
      "text/plain": [
       "2556391"
      ]
     },
     "execution_count": 155,
     "metadata": {},
     "output_type": "execute_result"
    }
   ],
   "source": [
    "len(shp)"
   ]
  },
  {
   "cell_type": "code",
   "execution_count": 160,
   "metadata": {
    "hidden": true
   },
   "outputs": [
    {
     "name": "stdout",
     "output_type": "stream",
     "text": [
      "CPU times: user 18.6 s, sys: 26.1 s, total: 44.6 s\n",
      "Wall time: 1min 13s\n"
     ]
    },
    {
     "data": {
      "text/html": [
       "<div>\n",
       "<style scoped>\n",
       "    .dataframe tbody tr th:only-of-type {\n",
       "        vertical-align: middle;\n",
       "    }\n",
       "\n",
       "    .dataframe tbody tr th {\n",
       "        vertical-align: top;\n",
       "    }\n",
       "\n",
       "    .dataframe thead th {\n",
       "        text-align: right;\n",
       "    }\n",
       "</style>\n",
       "<table border=\"1\" class=\"dataframe\">\n",
       "  <thead>\n",
       "    <tr style=\"text-align: right;\">\n",
       "      <th></th>\n",
       "      <th>id</th>\n",
       "      <th>tags</th>\n",
       "      <th>lonlat</th>\n",
       "      <th>category</th>\n",
       "      <th>subcategory</th>\n",
       "      <th>metadata</th>\n",
       "      <th>name</th>\n",
       "    </tr>\n",
       "  </thead>\n",
       "  <tbody>\n",
       "    <tr>\n",
       "      <th>0</th>\n",
       "      <td>109010581</td>\n",
       "      <td>{'amenity': 'ferry_terminal', 'name': 'Ferry P...</td>\n",
       "      <td>(-75.52193630000014, 10.285656899999953)</td>\n",
       "      <td>amenity</td>\n",
       "      <td>ferry_terminal</td>\n",
       "      <td>ferry_terminal</td>\n",
       "      <td>Ferry Pasacaballo - Barú</td>\n",
       "    </tr>\n",
       "    <tr>\n",
       "      <th>1</th>\n",
       "      <td>128071490</td>\n",
       "      <td>{'amenity': 'ferry_terminal', 'cargo': 'passen...</td>\n",
       "      <td>(-76.76754979999993, 7.312697700000006)</td>\n",
       "      <td>amenity</td>\n",
       "      <td>ferry_terminal</td>\n",
       "      <td>ferry_terminal</td>\n",
       "      <td>None</td>\n",
       "    </tr>\n",
       "    <tr>\n",
       "      <th>2</th>\n",
       "      <td>207467484</td>\n",
       "      <td>{'building': 'hut', 'name': 'Aboriginal hut', ...</td>\n",
       "      <td>(-60.322546199999906, -3.044940599999986)</td>\n",
       "      <td>building</td>\n",
       "      <td>building</td>\n",
       "      <td>hut</td>\n",
       "      <td>Aboriginal hut</td>\n",
       "    </tr>\n",
       "    <tr>\n",
       "      <th>3</th>\n",
       "      <td>249418926</td>\n",
       "      <td>{'name': 'Rafael Rodríguez', 'source': 'GNS', ...</td>\n",
       "      <td>(-76.84638900000003, 0.23555600000002241)</td>\n",
       "      <td>amenity</td>\n",
       "      <td>school</td>\n",
       "      <td>school</td>\n",
       "      <td>Rafael Rodríguez</td>\n",
       "    </tr>\n",
       "    <tr>\n",
       "      <th>4</th>\n",
       "      <td>249418933</td>\n",
       "      <td>{'name': 'Rita Lecumberry', 'source': 'GNS', '...</td>\n",
       "      <td>(-76.88694400000003, 0.2313890000000224)</td>\n",
       "      <td>amenity</td>\n",
       "      <td>school</td>\n",
       "      <td>school</td>\n",
       "      <td>Rita Lecumberry</td>\n",
       "    </tr>\n",
       "  </tbody>\n",
       "</table>\n",
       "</div>"
      ],
      "text/plain": [
       "          id                                               tags  \\\n",
       "0  109010581  {'amenity': 'ferry_terminal', 'name': 'Ferry P...   \n",
       "1  128071490  {'amenity': 'ferry_terminal', 'cargo': 'passen...   \n",
       "2  207467484  {'building': 'hut', 'name': 'Aboriginal hut', ...   \n",
       "3  249418926  {'name': 'Rafael Rodríguez', 'source': 'GNS', ...   \n",
       "4  249418933  {'name': 'Rita Lecumberry', 'source': 'GNS', '...   \n",
       "\n",
       "                                      lonlat  category     subcategory  \\\n",
       "0   (-75.52193630000014, 10.285656899999953)   amenity  ferry_terminal   \n",
       "1    (-76.76754979999993, 7.312697700000006)   amenity  ferry_terminal   \n",
       "2  (-60.322546199999906, -3.044940599999986)  building        building   \n",
       "3  (-76.84638900000003, 0.23555600000002241)   amenity          school   \n",
       "4   (-76.88694400000003, 0.2313890000000224)   amenity          school   \n",
       "\n",
       "         metadata                      name  \n",
       "0  ferry_terminal  Ferry Pasacaballo - Barú  \n",
       "1  ferry_terminal                      None  \n",
       "2             hut            Aboriginal hut  \n",
       "3          school          Rafael Rodríguez  \n",
       "4          school           Rita Lecumberry  "
      ]
     },
     "execution_count": 160,
     "metadata": {},
     "output_type": "execute_result"
    }
   ],
   "source": [
    "%%time\n",
    "country='colombia'\n",
    "# df = master_function(f,country)\n",
    "labeled = labeling(df).explode('metadata').explode('subcategory').explode('category')\n",
    "labeled.head()"
   ]
  },
  {
   "cell_type": "code",
   "execution_count": 207,
   "metadata": {
    "hidden": true
   },
   "outputs": [
    {
     "name": "stdout",
     "output_type": "stream",
     "text": [
      "CPU times: user 3.99 s, sys: 6.97 s, total: 11 s\n",
      "Wall time: 18.8 s\n"
     ]
    }
   ],
   "source": [
    "%%time\n",
    "merge = pd.merge(labeled,shp[['osm_id','geometry']],right_on='osm_id',left_on='id',how='left')"
   ]
  },
  {
   "cell_type": "code",
   "execution_count": 214,
   "metadata": {
    "hidden": true
   },
   "outputs": [
    {
     "data": {
      "text/plain": [
       "0.9686024022738325"
      ]
     },
     "execution_count": 214,
     "metadata": {},
     "output_type": "execute_result"
    }
   ],
   "source": [
    "len(merge.dropna(subset=['geometry']))/len(merge)#['geometry'].isnull().sum()/len(merge)"
   ]
  },
  {
   "cell_type": "code",
   "execution_count": 236,
   "metadata": {
    "hidden": true
   },
   "outputs": [],
   "source": [
    "data = merge.dropna(subset=['geometry'])[['id','name','category','subcategory','metadata','geometry','tags']]"
   ]
  },
  {
   "cell_type": "code",
   "execution_count": 237,
   "metadata": {
    "hidden": true
   },
   "outputs": [
    {
     "data": {
      "text/html": [
       "<div>\n",
       "<style scoped>\n",
       "    .dataframe tbody tr th:only-of-type {\n",
       "        vertical-align: middle;\n",
       "    }\n",
       "\n",
       "    .dataframe tbody tr th {\n",
       "        vertical-align: top;\n",
       "    }\n",
       "\n",
       "    .dataframe thead th {\n",
       "        text-align: right;\n",
       "    }\n",
       "</style>\n",
       "<table border=\"1\" class=\"dataframe\">\n",
       "  <thead>\n",
       "    <tr style=\"text-align: right;\">\n",
       "      <th></th>\n",
       "      <th>id</th>\n",
       "      <th>name</th>\n",
       "      <th>category</th>\n",
       "      <th>subcategory</th>\n",
       "      <th>metadata</th>\n",
       "      <th>geometry</th>\n",
       "      <th>tags</th>\n",
       "    </tr>\n",
       "  </thead>\n",
       "  <tbody>\n",
       "    <tr>\n",
       "      <th>0</th>\n",
       "      <td>109010581</td>\n",
       "      <td>Ferry Pasacaballo - Barú</td>\n",
       "      <td>amenity</td>\n",
       "      <td>ferry_terminal</td>\n",
       "      <td>ferry_terminal</td>\n",
       "      <td>POINT (-75.52194 10.28566)</td>\n",
       "      <td>{'amenity': 'ferry_terminal', 'name': 'Ferry P...</td>\n",
       "    </tr>\n",
       "    <tr>\n",
       "      <th>1</th>\n",
       "      <td>128071490</td>\n",
       "      <td>None</td>\n",
       "      <td>amenity</td>\n",
       "      <td>ferry_terminal</td>\n",
       "      <td>ferry_terminal</td>\n",
       "      <td>POINT (-76.76755 7.31270)</td>\n",
       "      <td>{'amenity': 'ferry_terminal', 'cargo': 'passen...</td>\n",
       "    </tr>\n",
       "    <tr>\n",
       "      <th>2</th>\n",
       "      <td>207467484</td>\n",
       "      <td>Aboriginal hut</td>\n",
       "      <td>building</td>\n",
       "      <td>building</td>\n",
       "      <td>hut</td>\n",
       "      <td>POINT (-60.32255 -3.04494)</td>\n",
       "      <td>{'building': 'hut', 'name': 'Aboriginal hut', ...</td>\n",
       "    </tr>\n",
       "    <tr>\n",
       "      <th>3</th>\n",
       "      <td>249418926</td>\n",
       "      <td>Rafael Rodríguez</td>\n",
       "      <td>amenity</td>\n",
       "      <td>school</td>\n",
       "      <td>school</td>\n",
       "      <td>POINT (-76.84639 0.23556)</td>\n",
       "      <td>{'name': 'Rafael Rodríguez', 'source': 'GNS', ...</td>\n",
       "    </tr>\n",
       "    <tr>\n",
       "      <th>4</th>\n",
       "      <td>249418933</td>\n",
       "      <td>Rita Lecumberry</td>\n",
       "      <td>amenity</td>\n",
       "      <td>school</td>\n",
       "      <td>school</td>\n",
       "      <td>POINT (-76.88694 0.23139)</td>\n",
       "      <td>{'name': 'Rita Lecumberry', 'source': 'GNS', '...</td>\n",
       "    </tr>\n",
       "  </tbody>\n",
       "</table>\n",
       "</div>"
      ],
      "text/plain": [
       "          id                      name  category     subcategory  \\\n",
       "0  109010581  Ferry Pasacaballo - Barú   amenity  ferry_terminal   \n",
       "1  128071490                      None   amenity  ferry_terminal   \n",
       "2  207467484            Aboriginal hut  building        building   \n",
       "3  249418926          Rafael Rodríguez   amenity          school   \n",
       "4  249418933           Rita Lecumberry   amenity          school   \n",
       "\n",
       "         metadata                    geometry  \\\n",
       "0  ferry_terminal  POINT (-75.52194 10.28566)   \n",
       "1  ferry_terminal   POINT (-76.76755 7.31270)   \n",
       "2             hut  POINT (-60.32255 -3.04494)   \n",
       "3          school   POINT (-76.84639 0.23556)   \n",
       "4          school   POINT (-76.88694 0.23139)   \n",
       "\n",
       "                                                tags  \n",
       "0  {'amenity': 'ferry_terminal', 'name': 'Ferry P...  \n",
       "1  {'amenity': 'ferry_terminal', 'cargo': 'passen...  \n",
       "2  {'building': 'hut', 'name': 'Aboriginal hut', ...  \n",
       "3  {'name': 'Rafael Rodríguez', 'source': 'GNS', ...  \n",
       "4  {'name': 'Rita Lecumberry', 'source': 'GNS', '...  "
      ]
     },
     "execution_count": 237,
     "metadata": {},
     "output_type": "execute_result"
    }
   ],
   "source": [
    "data.head()"
   ]
  },
  {
   "cell_type": "code",
   "execution_count": 238,
   "metadata": {
    "hidden": true
   },
   "outputs": [],
   "source": [
    "data.to_csv('colombia_pois.csv')"
   ]
  },
  {
   "cell_type": "code",
   "execution_count": 233,
   "metadata": {
    "hidden": true
   },
   "outputs": [
    {
     "data": {
      "text/plain": [
       "756220"
      ]
     },
     "execution_count": 233,
     "metadata": {},
     "output_type": "execute_result"
    }
   ],
   "source": [
    "len(data.drop_duplicates(subset=['id']))"
   ]
  },
  {
   "cell_type": "code",
   "execution_count": 234,
   "metadata": {
    "hidden": true
   },
   "outputs": [
    {
     "data": {
      "text/plain": [
       "782777"
      ]
     },
     "execution_count": 234,
     "metadata": {},
     "output_type": "execute_result"
    }
   ],
   "source": [
    "len(data)"
   ]
  },
  {
   "cell_type": "code",
   "execution_count": 218,
   "metadata": {
    "hidden": true
   },
   "outputs": [],
   "source": [
    "# merge.iloc[:808151,:][merge.iloc[:808151,'geometry']==None]"
   ]
  },
  {
   "cell_type": "code",
   "execution_count": null,
   "metadata": {
    "hidden": true
   },
   "outputs": [],
   "source": []
  },
  {
   "cell_type": "markdown",
   "metadata": {
    "heading_collapsed": true
   },
   "source": [
    "### Indonesia"
   ]
  },
  {
   "cell_type": "code",
   "execution_count": 12,
   "metadata": {
    "hidden": true
   },
   "outputs": [
    {
     "name": "stdout",
     "output_type": "stream",
     "text": [
      "CPU times: user 21min 40s, sys: 27.4 s, total: 22min 7s\n",
      "Wall time: 22min 22s\n"
     ]
    },
    {
     "data": {
      "text/html": [
       "<div>\n",
       "<style scoped>\n",
       "    .dataframe tbody tr th:only-of-type {\n",
       "        vertical-align: middle;\n",
       "    }\n",
       "\n",
       "    .dataframe tbody tr th {\n",
       "        vertical-align: top;\n",
       "    }\n",
       "\n",
       "    .dataframe thead th {\n",
       "        text-align: right;\n",
       "    }\n",
       "</style>\n",
       "<table border=\"1\" class=\"dataframe\">\n",
       "  <thead>\n",
       "    <tr style=\"text-align: right;\">\n",
       "      <th></th>\n",
       "      <th>id</th>\n",
       "      <th>tags</th>\n",
       "      <th>lonlat</th>\n",
       "      <th>name</th>\n",
       "      <th>category</th>\n",
       "      <th>subcategory</th>\n",
       "      <th>metadata</th>\n",
       "    </tr>\n",
       "  </thead>\n",
       "  <tbody>\n",
       "    <tr>\n",
       "      <th>0</th>\n",
       "      <td>25432860</td>\n",
       "      <td>{'highway': 'traffic_signals'}</td>\n",
       "      <td>(107.62995730000002, -6.915744800000001)</td>\n",
       "      <td>None</td>\n",
       "      <td>transportation_and_transit</td>\n",
       "      <td>highway</td>\n",
       "      <td>traffic_signals</td>\n",
       "    </tr>\n",
       "    <tr>\n",
       "      <th>1</th>\n",
       "      <td>25432923</td>\n",
       "      <td>{'highway': 'traffic_signals'}</td>\n",
       "      <td>(107.63145850000002, -6.9186104)</td>\n",
       "      <td>None</td>\n",
       "      <td>transportation_and_transit</td>\n",
       "      <td>highway</td>\n",
       "      <td>traffic_signals</td>\n",
       "    </tr>\n",
       "    <tr>\n",
       "      <th>2</th>\n",
       "      <td>25433284</td>\n",
       "      <td>{'bus': 'yes', 'ref': 'Jl. Lombok', 'name': 'J...</td>\n",
       "      <td>(107.61968860000002, -6.9072516)</td>\n",
       "      <td>Jl. Lombok</td>\n",
       "      <td>transportation_and_transit</td>\n",
       "      <td>highway</td>\n",
       "      <td>bus_stop</td>\n",
       "    </tr>\n",
       "    <tr>\n",
       "      <th>3</th>\n",
       "      <td>25433670</td>\n",
       "      <td>{'bus': 'yes', 'highway': 'bus_stop', 'name': ...</td>\n",
       "      <td>(107.60292690000004, -6.904267000000001)</td>\n",
       "      <td>Abdul Rivai</td>\n",
       "      <td>transportation_and_transit</td>\n",
       "      <td>highway</td>\n",
       "      <td>bus_stop</td>\n",
       "    </tr>\n",
       "    <tr>\n",
       "      <th>4</th>\n",
       "      <td>25433891</td>\n",
       "      <td>{'bus': 'yes', 'ref': 'Pintu Masuk Bandara Hus...</td>\n",
       "      <td>(107.58584210000002, -6.906030400000002)</td>\n",
       "      <td>Pintu Masuk Bandara Husein Sastranegara</td>\n",
       "      <td>transportation_and_transit</td>\n",
       "      <td>highway</td>\n",
       "      <td>bus_stop</td>\n",
       "    </tr>\n",
       "  </tbody>\n",
       "</table>\n",
       "</div>"
      ],
      "text/plain": [
       "         id                                               tags  \\\n",
       "0  25432860                     {'highway': 'traffic_signals'}   \n",
       "1  25432923                     {'highway': 'traffic_signals'}   \n",
       "2  25433284  {'bus': 'yes', 'ref': 'Jl. Lombok', 'name': 'J...   \n",
       "3  25433670  {'bus': 'yes', 'highway': 'bus_stop', 'name': ...   \n",
       "4  25433891  {'bus': 'yes', 'ref': 'Pintu Masuk Bandara Hus...   \n",
       "\n",
       "                                     lonlat  \\\n",
       "0  (107.62995730000002, -6.915744800000001)   \n",
       "1          (107.63145850000002, -6.9186104)   \n",
       "2          (107.61968860000002, -6.9072516)   \n",
       "3  (107.60292690000004, -6.904267000000001)   \n",
       "4  (107.58584210000002, -6.906030400000002)   \n",
       "\n",
       "                                      name                    category  \\\n",
       "0                                     None  transportation_and_transit   \n",
       "1                                     None  transportation_and_transit   \n",
       "2                               Jl. Lombok  transportation_and_transit   \n",
       "3                              Abdul Rivai  transportation_and_transit   \n",
       "4  Pintu Masuk Bandara Husein Sastranegara  transportation_and_transit   \n",
       "\n",
       "  subcategory         metadata  \n",
       "0     highway  traffic_signals  \n",
       "1     highway  traffic_signals  \n",
       "2     highway         bus_stop  \n",
       "3     highway         bus_stop  \n",
       "4     highway         bus_stop  "
      ]
     },
     "execution_count": 12,
     "metadata": {},
     "output_type": "execute_result"
    }
   ],
   "source": [
    "%%time\n",
    "country='indonesia'\n",
    "df = master_function(country)\n",
    "labeled = labeling(df).explode('metadata').explode('subcategory').explode('category')\n",
    "labeled.head()"
   ]
  },
  {
   "cell_type": "code",
   "execution_count": 13,
   "metadata": {
    "hidden": true
   },
   "outputs": [
    {
     "name": "stdout",
     "output_type": "stream",
     "text": [
      "4617834\n"
     ]
    }
   ],
   "source": [
    "print(len(labeled))\n"
   ]
  },
  {
   "cell_type": "code",
   "execution_count": 14,
   "metadata": {
    "hidden": true
   },
   "outputs": [
    {
     "name": "stdout",
     "output_type": "stream",
     "text": [
      "gis_osm_landuse_a_free_1.shp 145363\n",
      "gis_osm_natural_free_1.shp 39801\n",
      "gis_osm_waterways_free_1.shp 104007\n"
     ]
    },
    {
     "name": "stderr",
     "output_type": "stream",
     "text": [
      "<ipython-input-11-3318e46cbb49>:15: FutureWarning: Sorting because non-concatenation axis is not aligned. A future version\n",
      "of pandas will change to not sort by default.\n",
      "\n",
      "To accept the future behavior, pass 'sort=False'.\n",
      "\n",
      "To retain the current behavior and silence the warning, pass 'sort=True'.\n",
      "\n",
      "  shp = pd.concat([shp,temp],ignore_index=True)\n"
     ]
    },
    {
     "name": "stdout",
     "output_type": "stream",
     "text": [
      "gis_osm_buildings_a_free_2.shp 12516007\n",
      "gis_osm_buildings_a_free_3.shp 3885722\n",
      "gis_osm_pofw_free_1.shp 11811\n",
      "gis_osm_water_a_free_1.shp 24429\n",
      "gis_osm_transport_free_1.shp 3911\n",
      "gis_osm_places_a_free_1.shp 2747\n",
      "gis_osm_natural_a_free_1.shp 2006\n",
      "gis_osm_places_free_1.shp 87331\n",
      "gis_osm_pofw_a_free_1.shp 44041\n",
      "gis_osm_pois_free_1.shp 73519\n",
      "gis_osm_traffic_a_free_1.shp 5147\n",
      "gis_osm_traffic_free_1.shp 22589\n",
      "gis_osm_railways_free_1.shp 4713\n",
      "gis_osm_transport_a_free_1.shp 647\n",
      "gis_osm_pois_a_free_1.shp 88889\n",
      "gis_osm_roads_free_1.shp 4338646\n",
      "CPU times: user 23min 50s, sys: 1h 21min 1s, total: 1h 44min 52s\n",
      "Wall time: 2h 34min 12s\n"
     ]
    }
   ],
   "source": [
    "%%time\n",
    "shp = read_shapefile('indonesia')"
   ]
  },
  {
   "cell_type": "code",
   "execution_count": 15,
   "metadata": {
    "hidden": true
   },
   "outputs": [
    {
     "name": "stdout",
     "output_type": "stream",
     "text": [
      "CPU times: user 1min 47s, sys: 12min 31s, total: 14min 19s\n",
      "Wall time: 25min 39s\n"
     ]
    }
   ],
   "source": [
    "%%time\n",
    "merge = pd.merge(labeled,shp[['osm_id','geometry']],right_on='osm_id',left_on='id',how='left')"
   ]
  },
  {
   "cell_type": "code",
   "execution_count": 16,
   "metadata": {
    "hidden": true
   },
   "outputs": [
    {
     "data": {
      "text/plain": [
       "0.9902444338096803"
      ]
     },
     "execution_count": 16,
     "metadata": {},
     "output_type": "execute_result"
    }
   ],
   "source": [
    "len(merge.dropna(subset=['geometry']))/len(merge)#['geometry'].isnull().sum()/len(merge)"
   ]
  },
  {
   "cell_type": "code",
   "execution_count": 17,
   "metadata": {
    "hidden": true
   },
   "outputs": [],
   "source": [
    "data = merge.dropna(subset=['geometry'])[['id','name','category','subcategory','metadata','geometry','tags']]"
   ]
  },
  {
   "cell_type": "code",
   "execution_count": 18,
   "metadata": {
    "hidden": true
   },
   "outputs": [
    {
     "data": {
      "text/html": [
       "<div>\n",
       "<style scoped>\n",
       "    .dataframe tbody tr th:only-of-type {\n",
       "        vertical-align: middle;\n",
       "    }\n",
       "\n",
       "    .dataframe tbody tr th {\n",
       "        vertical-align: top;\n",
       "    }\n",
       "\n",
       "    .dataframe thead th {\n",
       "        text-align: right;\n",
       "    }\n",
       "</style>\n",
       "<table border=\"1\" class=\"dataframe\">\n",
       "  <thead>\n",
       "    <tr style=\"text-align: right;\">\n",
       "      <th></th>\n",
       "      <th>id</th>\n",
       "      <th>name</th>\n",
       "      <th>category</th>\n",
       "      <th>subcategory</th>\n",
       "      <th>metadata</th>\n",
       "      <th>geometry</th>\n",
       "      <th>tags</th>\n",
       "    </tr>\n",
       "  </thead>\n",
       "  <tbody>\n",
       "    <tr>\n",
       "      <th>0</th>\n",
       "      <td>25432860</td>\n",
       "      <td>None</td>\n",
       "      <td>transportation_and_transit</td>\n",
       "      <td>highway</td>\n",
       "      <td>traffic_signals</td>\n",
       "      <td>POINT (107.62996 -6.91574)</td>\n",
       "      <td>{'highway': 'traffic_signals'}</td>\n",
       "    </tr>\n",
       "    <tr>\n",
       "      <th>1</th>\n",
       "      <td>25432923</td>\n",
       "      <td>None</td>\n",
       "      <td>transportation_and_transit</td>\n",
       "      <td>highway</td>\n",
       "      <td>traffic_signals</td>\n",
       "      <td>POINT (107.63146 -6.91861)</td>\n",
       "      <td>{'highway': 'traffic_signals'}</td>\n",
       "    </tr>\n",
       "    <tr>\n",
       "      <th>2</th>\n",
       "      <td>25433284</td>\n",
       "      <td>Jl. Lombok</td>\n",
       "      <td>transportation_and_transit</td>\n",
       "      <td>highway</td>\n",
       "      <td>bus_stop</td>\n",
       "      <td>POINT (107.61969 -6.90725)</td>\n",
       "      <td>{'bus': 'yes', 'ref': 'Jl. Lombok', 'name': 'J...</td>\n",
       "    </tr>\n",
       "    <tr>\n",
       "      <th>3</th>\n",
       "      <td>25433670</td>\n",
       "      <td>Abdul Rivai</td>\n",
       "      <td>transportation_and_transit</td>\n",
       "      <td>highway</td>\n",
       "      <td>bus_stop</td>\n",
       "      <td>POINT (107.60293 -6.90427)</td>\n",
       "      <td>{'bus': 'yes', 'highway': 'bus_stop', 'name': ...</td>\n",
       "    </tr>\n",
       "    <tr>\n",
       "      <th>4</th>\n",
       "      <td>25433891</td>\n",
       "      <td>Pintu Masuk Bandara Husein Sastranegara</td>\n",
       "      <td>transportation_and_transit</td>\n",
       "      <td>highway</td>\n",
       "      <td>bus_stop</td>\n",
       "      <td>POINT (107.58584 -6.90603)</td>\n",
       "      <td>{'bus': 'yes', 'ref': 'Pintu Masuk Bandara Hus...</td>\n",
       "    </tr>\n",
       "  </tbody>\n",
       "</table>\n",
       "</div>"
      ],
      "text/plain": [
       "         id                                     name  \\\n",
       "0  25432860                                     None   \n",
       "1  25432923                                     None   \n",
       "2  25433284                               Jl. Lombok   \n",
       "3  25433670                              Abdul Rivai   \n",
       "4  25433891  Pintu Masuk Bandara Husein Sastranegara   \n",
       "\n",
       "                     category subcategory         metadata  \\\n",
       "0  transportation_and_transit     highway  traffic_signals   \n",
       "1  transportation_and_transit     highway  traffic_signals   \n",
       "2  transportation_and_transit     highway         bus_stop   \n",
       "3  transportation_and_transit     highway         bus_stop   \n",
       "4  transportation_and_transit     highway         bus_stop   \n",
       "\n",
       "                     geometry  \\\n",
       "0  POINT (107.62996 -6.91574)   \n",
       "1  POINT (107.63146 -6.91861)   \n",
       "2  POINT (107.61969 -6.90725)   \n",
       "3  POINT (107.60293 -6.90427)   \n",
       "4  POINT (107.58584 -6.90603)   \n",
       "\n",
       "                                                tags  \n",
       "0                     {'highway': 'traffic_signals'}  \n",
       "1                     {'highway': 'traffic_signals'}  \n",
       "2  {'bus': 'yes', 'ref': 'Jl. Lombok', 'name': 'J...  \n",
       "3  {'bus': 'yes', 'highway': 'bus_stop', 'name': ...  \n",
       "4  {'bus': 'yes', 'ref': 'Pintu Masuk Bandara Hus...  "
      ]
     },
     "execution_count": 18,
     "metadata": {},
     "output_type": "execute_result"
    }
   ],
   "source": [
    "data.head()"
   ]
  },
  {
   "cell_type": "code",
   "execution_count": 22,
   "metadata": {
    "hidden": true
   },
   "outputs": [],
   "source": [
    "data.drop_duplicates(subset=['id']).to_csv('indonesia_pois.csv')"
   ]
  },
  {
   "cell_type": "code",
   "execution_count": 19,
   "metadata": {
    "hidden": true
   },
   "outputs": [
    {
     "data": {
      "text/plain": [
       "4572480"
      ]
     },
     "execution_count": 19,
     "metadata": {},
     "output_type": "execute_result"
    }
   ],
   "source": [
    "len(data.drop_duplicates(subset=['id']))"
   ]
  },
  {
   "cell_type": "code",
   "execution_count": 20,
   "metadata": {
    "hidden": true
   },
   "outputs": [
    {
     "data": {
      "text/plain": [
       "4599827"
      ]
     },
     "execution_count": 20,
     "metadata": {},
     "output_type": "execute_result"
    }
   ],
   "source": [
    "len(data)"
   ]
  },
  {
   "cell_type": "code",
   "execution_count": 21,
   "metadata": {
    "hidden": true,
    "scrolled": true
   },
   "outputs": [
    {
     "data": {
      "text/html": [
       "<div>\n",
       "<style scoped>\n",
       "    .dataframe tbody tr th:only-of-type {\n",
       "        vertical-align: middle;\n",
       "    }\n",
       "\n",
       "    .dataframe tbody tr th {\n",
       "        vertical-align: top;\n",
       "    }\n",
       "\n",
       "    .dataframe thead th {\n",
       "        text-align: right;\n",
       "    }\n",
       "</style>\n",
       "<table border=\"1\" class=\"dataframe\">\n",
       "  <thead>\n",
       "    <tr style=\"text-align: right;\">\n",
       "      <th></th>\n",
       "      <th>id</th>\n",
       "      <th>name</th>\n",
       "      <th>category</th>\n",
       "      <th>subcategory</th>\n",
       "      <th>metadata</th>\n",
       "      <th>geometry</th>\n",
       "      <th>tags</th>\n",
       "    </tr>\n",
       "  </thead>\n",
       "  <tbody>\n",
       "    <tr>\n",
       "      <th>0</th>\n",
       "      <td>25432860</td>\n",
       "      <td>None</td>\n",
       "      <td>transportation_and_transit</td>\n",
       "      <td>highway</td>\n",
       "      <td>traffic_signals</td>\n",
       "      <td>POINT (107.62996 -6.91574)</td>\n",
       "      <td>{'highway': 'traffic_signals'}</td>\n",
       "    </tr>\n",
       "    <tr>\n",
       "      <th>1</th>\n",
       "      <td>25432923</td>\n",
       "      <td>None</td>\n",
       "      <td>transportation_and_transit</td>\n",
       "      <td>highway</td>\n",
       "      <td>traffic_signals</td>\n",
       "      <td>POINT (107.63146 -6.91861)</td>\n",
       "      <td>{'highway': 'traffic_signals'}</td>\n",
       "    </tr>\n",
       "    <tr>\n",
       "      <th>2</th>\n",
       "      <td>25433284</td>\n",
       "      <td>Jl. Lombok</td>\n",
       "      <td>transportation_and_transit</td>\n",
       "      <td>highway</td>\n",
       "      <td>bus_stop</td>\n",
       "      <td>POINT (107.61969 -6.90725)</td>\n",
       "      <td>{'bus': 'yes', 'ref': 'Jl. Lombok', 'name': 'J...</td>\n",
       "    </tr>\n",
       "    <tr>\n",
       "      <th>3</th>\n",
       "      <td>25433670</td>\n",
       "      <td>Abdul Rivai</td>\n",
       "      <td>transportation_and_transit</td>\n",
       "      <td>highway</td>\n",
       "      <td>bus_stop</td>\n",
       "      <td>POINT (107.60293 -6.90427)</td>\n",
       "      <td>{'bus': 'yes', 'highway': 'bus_stop', 'name': ...</td>\n",
       "    </tr>\n",
       "    <tr>\n",
       "      <th>4</th>\n",
       "      <td>25433891</td>\n",
       "      <td>Pintu Masuk Bandara Husein Sastranegara</td>\n",
       "      <td>transportation_and_transit</td>\n",
       "      <td>highway</td>\n",
       "      <td>bus_stop</td>\n",
       "      <td>POINT (107.58584 -6.90603)</td>\n",
       "      <td>{'bus': 'yes', 'ref': 'Pintu Masuk Bandara Hus...</td>\n",
       "    </tr>\n",
       "  </tbody>\n",
       "</table>\n",
       "</div>"
      ],
      "text/plain": [
       "         id                                     name  \\\n",
       "0  25432860                                     None   \n",
       "1  25432923                                     None   \n",
       "2  25433284                               Jl. Lombok   \n",
       "3  25433670                              Abdul Rivai   \n",
       "4  25433891  Pintu Masuk Bandara Husein Sastranegara   \n",
       "\n",
       "                     category subcategory         metadata  \\\n",
       "0  transportation_and_transit     highway  traffic_signals   \n",
       "1  transportation_and_transit     highway  traffic_signals   \n",
       "2  transportation_and_transit     highway         bus_stop   \n",
       "3  transportation_and_transit     highway         bus_stop   \n",
       "4  transportation_and_transit     highway         bus_stop   \n",
       "\n",
       "                     geometry  \\\n",
       "0  POINT (107.62996 -6.91574)   \n",
       "1  POINT (107.63146 -6.91861)   \n",
       "2  POINT (107.61969 -6.90725)   \n",
       "3  POINT (107.60293 -6.90427)   \n",
       "4  POINT (107.58584 -6.90603)   \n",
       "\n",
       "                                                tags  \n",
       "0                     {'highway': 'traffic_signals'}  \n",
       "1                     {'highway': 'traffic_signals'}  \n",
       "2  {'bus': 'yes', 'ref': 'Jl. Lombok', 'name': 'J...  \n",
       "3  {'bus': 'yes', 'highway': 'bus_stop', 'name': ...  \n",
       "4  {'bus': 'yes', 'ref': 'Pintu Masuk Bandara Hus...  "
      ]
     },
     "execution_count": 21,
     "metadata": {},
     "output_type": "execute_result"
    }
   ],
   "source": [
    "(data.drop_duplicates(subset=['id'])).head()"
   ]
  },
  {
   "cell_type": "markdown",
   "metadata": {},
   "source": [
    "### India"
   ]
  },
  {
   "cell_type": "code",
   "execution_count": 6,
   "metadata": {},
   "outputs": [
    {
     "name": "stdout",
     "output_type": "stream",
     "text": [
      "CPU times: user 16min 27s, sys: 40.8 s, total: 17min 8s\n",
      "Wall time: 19min 17s\n"
     ]
    },
    {
     "data": {
      "text/html": [
       "<div>\n",
       "<style scoped>\n",
       "    .dataframe tbody tr th:only-of-type {\n",
       "        vertical-align: middle;\n",
       "    }\n",
       "\n",
       "    .dataframe tbody tr th {\n",
       "        vertical-align: top;\n",
       "    }\n",
       "\n",
       "    .dataframe thead th {\n",
       "        text-align: right;\n",
       "    }\n",
       "</style>\n",
       "<table border=\"1\" class=\"dataframe\">\n",
       "  <thead>\n",
       "    <tr style=\"text-align: right;\">\n",
       "      <th></th>\n",
       "      <th>id</th>\n",
       "      <th>tags</th>\n",
       "      <th>lonlat</th>\n",
       "      <th>name</th>\n",
       "      <th>category</th>\n",
       "      <th>subcategory</th>\n",
       "      <th>metadata</th>\n",
       "    </tr>\n",
       "  </thead>\n",
       "  <tbody>\n",
       "    <tr>\n",
       "      <th>0</th>\n",
       "      <td>15382325</td>\n",
       "      <td>{'name': 'Muncipal Hq', 'highway': 'bus_stop'}</td>\n",
       "      <td>(76.33318700000004, 10.3065115)</td>\n",
       "      <td>Muncipal Hq</td>\n",
       "      <td>transportation_and_transit</td>\n",
       "      <td>highway</td>\n",
       "      <td>bus_stop</td>\n",
       "    </tr>\n",
       "    <tr>\n",
       "      <th>1</th>\n",
       "      <td>15382358</td>\n",
       "      <td>{'highway': 'bus_stop', 'name': 'ITI Junction'}</td>\n",
       "      <td>(76.33145280000005, 10.3057609)</td>\n",
       "      <td>ITI Junction</td>\n",
       "      <td>transportation_and_transit</td>\n",
       "      <td>highway</td>\n",
       "      <td>bus_stop</td>\n",
       "    </tr>\n",
       "    <tr>\n",
       "      <th>2</th>\n",
       "      <td>15510304</td>\n",
       "      <td>{'highway': 'bus_stop', 'name': 'Ambala nada'}</td>\n",
       "      <td>(76.31892210000001, 10.301338499999998)</td>\n",
       "      <td>Ambala nada</td>\n",
       "      <td>transportation_and_transit</td>\n",
       "      <td>highway</td>\n",
       "      <td>bus_stop</td>\n",
       "    </tr>\n",
       "    <tr>\n",
       "      <th>3</th>\n",
       "      <td>15849963</td>\n",
       "      <td>{'highway': 'bus_stop', 'name': 'FCI'}</td>\n",
       "      <td>(76.3190611999999, 10.299324899999993)</td>\n",
       "      <td>FCI</td>\n",
       "      <td>transportation_and_transit</td>\n",
       "      <td>highway</td>\n",
       "      <td>bus_stop</td>\n",
       "    </tr>\n",
       "    <tr>\n",
       "      <th>4</th>\n",
       "      <td>16173235</td>\n",
       "      <td>{'alt_name:es': 'Mumbai', 'capital': '4', 'cap...</td>\n",
       "      <td>(72.87739279999988, 19.075989899999982)</td>\n",
       "      <td>Mumbai</td>\n",
       "      <td>retail_and_recreation</td>\n",
       "      <td>tourism</td>\n",
       "      <td>attraction</td>\n",
       "    </tr>\n",
       "  </tbody>\n",
       "</table>\n",
       "</div>"
      ],
      "text/plain": [
       "         id                                               tags  \\\n",
       "0  15382325     {'name': 'Muncipal Hq', 'highway': 'bus_stop'}   \n",
       "1  15382358    {'highway': 'bus_stop', 'name': 'ITI Junction'}   \n",
       "2  15510304     {'highway': 'bus_stop', 'name': 'Ambala nada'}   \n",
       "3  15849963             {'highway': 'bus_stop', 'name': 'FCI'}   \n",
       "4  16173235  {'alt_name:es': 'Mumbai', 'capital': '4', 'cap...   \n",
       "\n",
       "                                    lonlat          name  \\\n",
       "0          (76.33318700000004, 10.3065115)   Muncipal Hq   \n",
       "1          (76.33145280000005, 10.3057609)  ITI Junction   \n",
       "2  (76.31892210000001, 10.301338499999998)   Ambala nada   \n",
       "3   (76.3190611999999, 10.299324899999993)           FCI   \n",
       "4  (72.87739279999988, 19.075989899999982)        Mumbai   \n",
       "\n",
       "                     category subcategory    metadata  \n",
       "0  transportation_and_transit     highway    bus_stop  \n",
       "1  transportation_and_transit     highway    bus_stop  \n",
       "2  transportation_and_transit     highway    bus_stop  \n",
       "3  transportation_and_transit     highway    bus_stop  \n",
       "4       retail_and_recreation     tourism  attraction  "
      ]
     },
     "execution_count": 6,
     "metadata": {},
     "output_type": "execute_result"
    }
   ],
   "source": [
    "%%time\n",
    "country='india'\n",
    "df = master_function(country)\n",
    "labeled = labeling(df).explode('metadata').explode('subcategory').explode('category')\n",
    "labeled.head()"
   ]
  },
  {
   "cell_type": "code",
   "execution_count": 7,
   "metadata": {},
   "outputs": [
    {
     "name": "stdout",
     "output_type": "stream",
     "text": [
      "4131339\n"
     ]
    }
   ],
   "source": [
    "print(len(labeled))\n"
   ]
  },
  {
   "cell_type": "code",
   "execution_count": 8,
   "metadata": {},
   "outputs": [
    {
     "name": "stdout",
     "output_type": "stream",
     "text": [
      "gis_osm_landuse_a_free_1.shp 342384\n",
      "gis_osm_natural_free_1.shp 34783\n",
      "gis_osm_buildings_a_free_1.shp 11006729\n"
     ]
    },
    {
     "name": "stderr",
     "output_type": "stream",
     "text": [
      "<ipython-input-5-3318e46cbb49>:15: FutureWarning: Sorting because non-concatenation axis is not aligned. A future version\n",
      "of pandas will change to not sort by default.\n",
      "\n",
      "To accept the future behavior, pass 'sort=False'.\n",
      "\n",
      "To retain the current behavior and silence the warning, pass 'sort=True'.\n",
      "\n",
      "  shp = pd.concat([shp,temp],ignore_index=True)\n"
     ]
    },
    {
     "name": "stdout",
     "output_type": "stream",
     "text": [
      "gis_osm_waterways_free_1.shp 135065\n",
      "gis_osm_pofw_free_1.shp 17532\n",
      "gis_osm_water_a_free_1.shp 218872\n",
      "gis_osm_transport_free_1.shp 30820\n",
      "gis_osm_places_a_free_1.shp 5147\n",
      "gis_osm_natural_a_free_1.shp 3557\n",
      "gis_osm_places_free_1.shp 146228\n",
      "gis_osm_pofw_a_free_1.shp 16159\n",
      "gis_osm_pois_free_1.shp 197187\n",
      "gis_osm_traffic_a_free_1.shp 6910\n",
      "gis_osm_traffic_free_1.shp 56377\n",
      "gis_osm_railways_free_1.shp 63944\n",
      "gis_osm_transport_a_free_1.shp 2198\n",
      "gis_osm_pois_a_free_1.shp 83079\n",
      "gis_osm_roads_free_1.shp 3575608\n",
      "CPU times: user 18min 33s, sys: 1h 3min 22s, total: 1h 21min 56s\n",
      "Wall time: 2h 28min 28s\n"
     ]
    }
   ],
   "source": [
    "%%time\n",
    "shp = read_shapefile('india')"
   ]
  },
  {
   "cell_type": "code",
   "execution_count": 9,
   "metadata": {},
   "outputs": [
    {
     "name": "stdout",
     "output_type": "stream",
     "text": [
      "CPU times: user 1min 15s, sys: 6min 35s, total: 7min 50s\n",
      "Wall time: 12min 48s\n"
     ]
    }
   ],
   "source": [
    "%%time\n",
    "merge = pd.merge(labeled,shp[['osm_id','geometry']],right_on='osm_id',left_on='id',how='left')"
   ]
  },
  {
   "cell_type": "code",
   "execution_count": 10,
   "metadata": {},
   "outputs": [
    {
     "data": {
      "text/plain": [
       "0.9706037076482249"
      ]
     },
     "execution_count": 10,
     "metadata": {},
     "output_type": "execute_result"
    }
   ],
   "source": [
    "len(merge.dropna(subset=['geometry']))/len(merge)#['geometry'].isnull().sum()/len(merge)"
   ]
  },
  {
   "cell_type": "code",
   "execution_count": 11,
   "metadata": {},
   "outputs": [],
   "source": [
    "data = merge.dropna(subset=['geometry'])[['id','name','category','subcategory','metadata','geometry','tags']]"
   ]
  },
  {
   "cell_type": "code",
   "execution_count": 12,
   "metadata": {},
   "outputs": [
    {
     "data": {
      "text/html": [
       "<div>\n",
       "<style scoped>\n",
       "    .dataframe tbody tr th:only-of-type {\n",
       "        vertical-align: middle;\n",
       "    }\n",
       "\n",
       "    .dataframe tbody tr th {\n",
       "        vertical-align: top;\n",
       "    }\n",
       "\n",
       "    .dataframe thead th {\n",
       "        text-align: right;\n",
       "    }\n",
       "</style>\n",
       "<table border=\"1\" class=\"dataframe\">\n",
       "  <thead>\n",
       "    <tr style=\"text-align: right;\">\n",
       "      <th></th>\n",
       "      <th>id</th>\n",
       "      <th>name</th>\n",
       "      <th>category</th>\n",
       "      <th>subcategory</th>\n",
       "      <th>metadata</th>\n",
       "      <th>geometry</th>\n",
       "      <th>tags</th>\n",
       "    </tr>\n",
       "  </thead>\n",
       "  <tbody>\n",
       "    <tr>\n",
       "      <th>0</th>\n",
       "      <td>15382325</td>\n",
       "      <td>Muncipal Hq</td>\n",
       "      <td>transportation_and_transit</td>\n",
       "      <td>highway</td>\n",
       "      <td>bus_stop</td>\n",
       "      <td>POINT (76.33319 10.30651)</td>\n",
       "      <td>{'name': 'Muncipal Hq', 'highway': 'bus_stop'}</td>\n",
       "    </tr>\n",
       "    <tr>\n",
       "      <th>1</th>\n",
       "      <td>15382358</td>\n",
       "      <td>ITI Junction</td>\n",
       "      <td>transportation_and_transit</td>\n",
       "      <td>highway</td>\n",
       "      <td>bus_stop</td>\n",
       "      <td>POINT (76.33145 10.30576)</td>\n",
       "      <td>{'highway': 'bus_stop', 'name': 'ITI Junction'}</td>\n",
       "    </tr>\n",
       "    <tr>\n",
       "      <th>2</th>\n",
       "      <td>15510304</td>\n",
       "      <td>Ambala nada</td>\n",
       "      <td>transportation_and_transit</td>\n",
       "      <td>highway</td>\n",
       "      <td>bus_stop</td>\n",
       "      <td>POINT (76.31892 10.30134)</td>\n",
       "      <td>{'highway': 'bus_stop', 'name': 'Ambala nada'}</td>\n",
       "    </tr>\n",
       "    <tr>\n",
       "      <th>3</th>\n",
       "      <td>15849963</td>\n",
       "      <td>FCI</td>\n",
       "      <td>transportation_and_transit</td>\n",
       "      <td>highway</td>\n",
       "      <td>bus_stop</td>\n",
       "      <td>POINT (76.31906 10.29932)</td>\n",
       "      <td>{'highway': 'bus_stop', 'name': 'FCI'}</td>\n",
       "    </tr>\n",
       "    <tr>\n",
       "      <th>4</th>\n",
       "      <td>16173235</td>\n",
       "      <td>Mumbai</td>\n",
       "      <td>retail_and_recreation</td>\n",
       "      <td>tourism</td>\n",
       "      <td>attraction</td>\n",
       "      <td>POINT (72.87739 19.07599)</td>\n",
       "      <td>{'alt_name:es': 'Mumbai', 'capital': '4', 'cap...</td>\n",
       "    </tr>\n",
       "  </tbody>\n",
       "</table>\n",
       "</div>"
      ],
      "text/plain": [
       "         id          name                    category subcategory    metadata  \\\n",
       "0  15382325   Muncipal Hq  transportation_and_transit     highway    bus_stop   \n",
       "1  15382358  ITI Junction  transportation_and_transit     highway    bus_stop   \n",
       "2  15510304   Ambala nada  transportation_and_transit     highway    bus_stop   \n",
       "3  15849963           FCI  transportation_and_transit     highway    bus_stop   \n",
       "4  16173235        Mumbai       retail_and_recreation     tourism  attraction   \n",
       "\n",
       "                    geometry  \\\n",
       "0  POINT (76.33319 10.30651)   \n",
       "1  POINT (76.33145 10.30576)   \n",
       "2  POINT (76.31892 10.30134)   \n",
       "3  POINT (76.31906 10.29932)   \n",
       "4  POINT (72.87739 19.07599)   \n",
       "\n",
       "                                                tags  \n",
       "0     {'name': 'Muncipal Hq', 'highway': 'bus_stop'}  \n",
       "1    {'highway': 'bus_stop', 'name': 'ITI Junction'}  \n",
       "2     {'highway': 'bus_stop', 'name': 'Ambala nada'}  \n",
       "3             {'highway': 'bus_stop', 'name': 'FCI'}  \n",
       "4  {'alt_name:es': 'Mumbai', 'capital': '4', 'cap...  "
      ]
     },
     "execution_count": 12,
     "metadata": {},
     "output_type": "execute_result"
    }
   ],
   "source": [
    "data.head()"
   ]
  },
  {
   "cell_type": "code",
   "execution_count": 13,
   "metadata": {},
   "outputs": [
    {
     "data": {
      "text/plain": [
       "4008248"
      ]
     },
     "execution_count": 13,
     "metadata": {},
     "output_type": "execute_result"
    }
   ],
   "source": [
    "len(data.drop_duplicates(subset=['id']))"
   ]
  },
  {
   "cell_type": "code",
   "execution_count": 14,
   "metadata": {},
   "outputs": [
    {
     "data": {
      "text/plain": [
       "4062786"
      ]
     },
     "execution_count": 14,
     "metadata": {},
     "output_type": "execute_result"
    }
   ],
   "source": [
    "len(data)"
   ]
  },
  {
   "cell_type": "code",
   "execution_count": 16,
   "metadata": {},
   "outputs": [],
   "source": [
    "data.drop_duplicates(subset=['id']).to_csv('../data/osm/india/india_pois.csv')"
   ]
  },
  {
   "cell_type": "code",
   "execution_count": 17,
   "metadata": {
    "scrolled": true
   },
   "outputs": [
    {
     "data": {
      "text/html": [
       "<div>\n",
       "<style scoped>\n",
       "    .dataframe tbody tr th:only-of-type {\n",
       "        vertical-align: middle;\n",
       "    }\n",
       "\n",
       "    .dataframe tbody tr th {\n",
       "        vertical-align: top;\n",
       "    }\n",
       "\n",
       "    .dataframe thead th {\n",
       "        text-align: right;\n",
       "    }\n",
       "</style>\n",
       "<table border=\"1\" class=\"dataframe\">\n",
       "  <thead>\n",
       "    <tr style=\"text-align: right;\">\n",
       "      <th></th>\n",
       "      <th>id</th>\n",
       "      <th>name</th>\n",
       "      <th>category</th>\n",
       "      <th>subcategory</th>\n",
       "      <th>metadata</th>\n",
       "      <th>geometry</th>\n",
       "      <th>tags</th>\n",
       "    </tr>\n",
       "  </thead>\n",
       "  <tbody>\n",
       "    <tr>\n",
       "      <th>0</th>\n",
       "      <td>15382325</td>\n",
       "      <td>Muncipal Hq</td>\n",
       "      <td>transportation_and_transit</td>\n",
       "      <td>highway</td>\n",
       "      <td>bus_stop</td>\n",
       "      <td>POINT (76.33319 10.30651)</td>\n",
       "      <td>{'name': 'Muncipal Hq', 'highway': 'bus_stop'}</td>\n",
       "    </tr>\n",
       "    <tr>\n",
       "      <th>1</th>\n",
       "      <td>15382358</td>\n",
       "      <td>ITI Junction</td>\n",
       "      <td>transportation_and_transit</td>\n",
       "      <td>highway</td>\n",
       "      <td>bus_stop</td>\n",
       "      <td>POINT (76.33145 10.30576)</td>\n",
       "      <td>{'highway': 'bus_stop', 'name': 'ITI Junction'}</td>\n",
       "    </tr>\n",
       "    <tr>\n",
       "      <th>2</th>\n",
       "      <td>15510304</td>\n",
       "      <td>Ambala nada</td>\n",
       "      <td>transportation_and_transit</td>\n",
       "      <td>highway</td>\n",
       "      <td>bus_stop</td>\n",
       "      <td>POINT (76.31892 10.30134)</td>\n",
       "      <td>{'highway': 'bus_stop', 'name': 'Ambala nada'}</td>\n",
       "    </tr>\n",
       "    <tr>\n",
       "      <th>3</th>\n",
       "      <td>15849963</td>\n",
       "      <td>FCI</td>\n",
       "      <td>transportation_and_transit</td>\n",
       "      <td>highway</td>\n",
       "      <td>bus_stop</td>\n",
       "      <td>POINT (76.31906 10.29932)</td>\n",
       "      <td>{'highway': 'bus_stop', 'name': 'FCI'}</td>\n",
       "    </tr>\n",
       "    <tr>\n",
       "      <th>4</th>\n",
       "      <td>16173235</td>\n",
       "      <td>Mumbai</td>\n",
       "      <td>retail_and_recreation</td>\n",
       "      <td>tourism</td>\n",
       "      <td>attraction</td>\n",
       "      <td>POINT (72.87739 19.07599)</td>\n",
       "      <td>{'alt_name:es': 'Mumbai', 'capital': '4', 'cap...</td>\n",
       "    </tr>\n",
       "  </tbody>\n",
       "</table>\n",
       "</div>"
      ],
      "text/plain": [
       "         id          name                    category subcategory    metadata  \\\n",
       "0  15382325   Muncipal Hq  transportation_and_transit     highway    bus_stop   \n",
       "1  15382358  ITI Junction  transportation_and_transit     highway    bus_stop   \n",
       "2  15510304   Ambala nada  transportation_and_transit     highway    bus_stop   \n",
       "3  15849963           FCI  transportation_and_transit     highway    bus_stop   \n",
       "4  16173235        Mumbai       retail_and_recreation     tourism  attraction   \n",
       "\n",
       "                    geometry  \\\n",
       "0  POINT (76.33319 10.30651)   \n",
       "1  POINT (76.33145 10.30576)   \n",
       "2  POINT (76.31892 10.30134)   \n",
       "3  POINT (76.31906 10.29932)   \n",
       "4  POINT (72.87739 19.07599)   \n",
       "\n",
       "                                                tags  \n",
       "0     {'name': 'Muncipal Hq', 'highway': 'bus_stop'}  \n",
       "1    {'highway': 'bus_stop', 'name': 'ITI Junction'}  \n",
       "2     {'highway': 'bus_stop', 'name': 'Ambala nada'}  \n",
       "3             {'highway': 'bus_stop', 'name': 'FCI'}  \n",
       "4  {'alt_name:es': 'Mumbai', 'capital': '4', 'cap...  "
      ]
     },
     "execution_count": 17,
     "metadata": {},
     "output_type": "execute_result"
    }
   ],
   "source": [
    "(data.drop_duplicates(subset=['id'])).head()"
   ]
  },
  {
   "cell_type": "code",
   "execution_count": null,
   "metadata": {},
   "outputs": [],
   "source": []
  },
  {
   "cell_type": "code",
   "execution_count": null,
   "metadata": {},
   "outputs": [],
   "source": []
  },
  {
   "cell_type": "markdown",
   "metadata": {},
   "source": [
    "## Checking how many lat lon we have"
   ]
  },
  {
   "cell_type": "markdown",
   "metadata": {
    "heading_collapsed": true
   },
   "source": [
    "### Colombia"
   ]
  },
  {
   "cell_type": "code",
   "execution_count": 4,
   "metadata": {
    "hidden": true
   },
   "outputs": [],
   "source": [
    "filenames = []\n",
    "path = f'/Users/mahamfaisalkhan/repos/world-bank/covid_local/data/osm/{country}_pois/{country}-latest-free.shp/'\n",
    "for file in os.listdir(path):\n",
    "    if file.endswith('.shp'):\n",
    "        filenames.append(file)"
   ]
  },
  {
   "cell_type": "code",
   "execution_count": 35,
   "metadata": {
    "code_folding": [
     0,
     5
    ],
    "hidden": true
   },
   "outputs": [
    {
     "name": "stdout",
     "output_type": "stream",
     "text": [
      "gis_osm_landuse_a_free_1.shp 143468\n",
      "gis_osm_natural_free_1.shp 32581\n",
      "gis_osm_buildings_a_free_1.shp 1098324\n",
      "gis_osm_waterways_free_1.shp 67726\n",
      "gis_osm_pofw_free_1.shp 3432\n",
      "gis_osm_water_a_free_1.shp 38330\n",
      "gis_osm_transport_free_1.shp 8703\n",
      "gis_osm_places_a_free_1.shp 2220\n",
      "gis_osm_natural_a_free_1.shp 769\n",
      "gis_osm_places_free_1.shp 49550\n",
      "gis_osm_pofw_a_free_1.shp 4123\n",
      "gis_osm_pois_free_1.shp 113813\n",
      "gis_osm_traffic_a_free_1.shp 17607\n",
      "gis_osm_traffic_free_1.shp 56793\n",
      "gis_osm_railways_free_1.shp 9283\n",
      "gis_osm_transport_a_free_1.shp 786\n",
      "gis_osm_pois_a_free_1.shp 111282\n",
      "gis_osm_roads_free_1.shp 2871280\n",
      "No of lat lon: 39988706\n",
      "No of multi polygon: 4426302\n",
      "Total: 44415008\n",
      "Ratio: 0.9003421996456693\n",
      "Total intersection: 4561971\n"
     ]
    },
    {
     "ename": "NameError",
     "evalue": "name 'mutli_total' is not defined",
     "output_type": "error",
     "traceback": [
      "\u001b[0;31m---------------------------------------------------------------------------\u001b[0m",
      "\u001b[0;31mNameError\u001b[0m                                 Traceback (most recent call last)",
      "\u001b[0;32m<ipython-input-35-ed6acad81849>\u001b[0m in \u001b[0;36m<module>\u001b[0;34m\u001b[0m\n\u001b[1;32m     41\u001b[0m \u001b[0mmulti_total\u001b[0m \u001b[0;34m=\u001b[0m \u001b[0mlen\u001b[0m\u001b[0;34m(\u001b[0m\u001b[0mset\u001b[0m\u001b[0;34m(\u001b[0m\u001b[0mids_\u001b[0m\u001b[0;34m[\u001b[0m\u001b[0;36m0\u001b[0m\u001b[0;34m]\u001b[0m\u001b[0;34m.\u001b[0m\u001b[0mastype\u001b[0m\u001b[0;34m(\u001b[0m\u001b[0mint\u001b[0m\u001b[0;34m)\u001b[0m\u001b[0;34m)\u001b[0m\u001b[0;34m.\u001b[0m\u001b[0mintersection\u001b[0m\u001b[0;34m(\u001b[0m\u001b[0mset\u001b[0m\u001b[0;34m(\u001b[0m\u001b[0mmulti\u001b[0m\u001b[0;34m)\u001b[0m\u001b[0;34m)\u001b[0m\u001b[0;34m)\u001b[0m\u001b[0;34m\u001b[0m\u001b[0;34m\u001b[0m\u001b[0m\n\u001b[1;32m     42\u001b[0m \u001b[0mprint\u001b[0m\u001b[0;34m(\u001b[0m\u001b[0;34mf'Total intersection: {total}'\u001b[0m\u001b[0;34m)\u001b[0m\u001b[0;34m\u001b[0m\u001b[0;34m\u001b[0m\u001b[0m\n\u001b[0;32m---> 43\u001b[0;31m \u001b[0mprint\u001b[0m\u001b[0;34m(\u001b[0m\u001b[0;34mf'Multi intersection: {mutli_total}'\u001b[0m\u001b[0;34m)\u001b[0m\u001b[0;34m\u001b[0m\u001b[0;34m\u001b[0m\u001b[0m\n\u001b[0m",
      "\u001b[0;31mNameError\u001b[0m: name 'mutli_total' is not defined"
     ]
    }
   ],
   "source": [
    "# Function that checks overlap between ways and shapefiles\n",
    "country = 'mexico'\n",
    "filenames = []\n",
    "path = f'/Users/mahamfaisalkhan/repos/world-bank/covid_local/data/osm/{country}_pois/{country}-latest-free.shp/'\n",
    "for file in os.listdir(path):\n",
    "    if file.endswith('.shp'):\n",
    "        filenames.append(file)\n",
    "\n",
    "lengths = []\n",
    "ids_=pd.DataFrame([])\n",
    "for i in filenames:\n",
    "    temp = []\n",
    "    temp = (gpd.read_file(path+i))\n",
    "    print(i,len(temp))\n",
    "    lengths.append(temp)\n",
    "    ids_ = pd.concat([ids_,temp['osm_id']])\n",
    "\n",
    "f = os.path.join(f'/Users/mahamfaisalkhan/repos/world-bank/covid_local/data/osm/{country}-latest.osm.pbf')\n",
    "osm = esy.osm.pbf.File(f)\n",
    "\n",
    "lat_lon_count = []\n",
    "multi_polygon_count = []\n",
    "n = 0\n",
    "ids = []\n",
    "multi = []\n",
    "for i in osm:\n",
    "    n=n+1\n",
    "    ids.append(i.id)\n",
    "    try:\n",
    "        lat_lon_count.append(i.lonlat)\n",
    "    except:\n",
    "        multi.append(i.id)\n",
    "        multi_polygon_count.append(i)\n",
    "\n",
    "print(f'No of lat lon: {len(lat_lon_count)}')\n",
    "print(f'No of multi polygon: {len(multi_polygon_count)}')\n",
    "print(f'Total: {n}')\n",
    "print(f'Ratio: {(len(lat_lon_count)/n)}')\n",
    "        \n",
    "total = len(set(ids_[0].astype(int)).intersection(set(ids)))\n",
    "multi_total = len(set(ids_[0].astype(int)).intersection(set(multi)))\n",
    "print(f'Total intersection: {total}')\n",
    "print(f'Multi intersection: {mutli_total}')\n"
   ]
  },
  {
   "cell_type": "code",
   "execution_count": 37,
   "metadata": {
    "hidden": true
   },
   "outputs": [
    {
     "name": "stdout",
     "output_type": "stream",
     "text": [
      "Multi intersection: 4297705\n"
     ]
    }
   ],
   "source": [
    "print(f'Multi intersection: {multi_total}')\n"
   ]
  },
  {
   "cell_type": "code",
   "execution_count": 42,
   "metadata": {
    "hidden": true
   },
   "outputs": [
    {
     "data": {
      "text/plain": [
       "array(['LineString'], dtype=object)"
      ]
     },
     "execution_count": 42,
     "metadata": {},
     "output_type": "execute_result"
    }
   ],
   "source": [
    "temp['geometry'].type.unique()"
   ]
  },
  {
   "cell_type": "code",
   "execution_count": 18,
   "metadata": {
    "code_folding": [
     0,
     3
    ],
    "hidden": true
   },
   "outputs": [
    {
     "name": "stdout",
     "output_type": "stream",
     "text": [
      "gis_osm_landuse_a_free_1.shp 99108\n",
      "gis_osm_natural_free_1.shp 38557\n",
      "gis_osm_buildings_a_free_1.shp 1535000\n",
      "gis_osm_waterways_free_1.shp 32581\n",
      "gis_osm_pofw_free_1.shp 1355\n",
      "gis_osm_water_a_free_1.shp 24613\n",
      "gis_osm_transport_free_1.shp 4855\n",
      "gis_osm_places_a_free_1.shp 940\n",
      "gis_osm_natural_a_free_1.shp 609\n",
      "gis_osm_places_free_1.shp 48428\n",
      "gis_osm_pofw_a_free_1.shp 2419\n",
      "gis_osm_pois_free_1.shp 69916\n",
      "gis_osm_traffic_a_free_1.shp 6720\n",
      "gis_osm_traffic_free_1.shp 22312\n",
      "gis_osm_railways_free_1.shp 805\n",
      "gis_osm_transport_a_free_1.shp 693\n",
      "gis_osm_pois_a_free_1.shp 51759\n",
      "gis_osm_roads_free_1.shp 615721\n",
      "CPU times: user 2min, sys: 2min 45s, total: 4min 46s\n",
      "Wall time: 8min 35s\n"
     ]
    }
   ],
   "source": [
    "%%time\n",
    "lengths = []\n",
    "ids_=pd.DataFrame([])\n",
    "for i in filenames:\n",
    "    temp = []\n",
    "    temp = (gpd.read_file(path+i))\n",
    "    print(i,len(temp))\n",
    "    lengths.append(temp)\n",
    "    ids_ = pd.concat([ids_,temp['osm_id']])\n",
    "\n",
    "    "
   ]
  },
  {
   "cell_type": "code",
   "execution_count": 29,
   "metadata": {
    "hidden": true
   },
   "outputs": [
    {
     "data": {
      "text/plain": [
       "2556391"
      ]
     },
     "execution_count": 29,
     "metadata": {},
     "output_type": "execute_result"
    }
   ],
   "source": [
    "len(ids_[0])"
   ]
  },
  {
   "cell_type": "code",
   "execution_count": 28,
   "metadata": {
    "hidden": true
   },
   "outputs": [
    {
     "data": {
      "text/plain": [
       "2525536"
      ]
     },
     "execution_count": 28,
     "metadata": {},
     "output_type": "execute_result"
    }
   ],
   "source": [
    "len(set(ids_[0].astype(int)).intersection(set(ids)))"
   ]
  },
  {
   "cell_type": "code",
   "execution_count": 31,
   "metadata": {
    "hidden": true
   },
   "outputs": [
    {
     "data": {
      "text/plain": [
       "2340678"
      ]
     },
     "execution_count": 31,
     "metadata": {},
     "output_type": "execute_result"
    }
   ],
   "source": [
    "len(set(ids_[0].astype(int)).intersection(set(multi)))"
   ]
  },
  {
   "cell_type": "code",
   "execution_count": 27,
   "metadata": {
    "hidden": true
   },
   "outputs": [
    {
     "data": {
      "text/plain": [
       "9354987"
      ]
     },
     "execution_count": 27,
     "metadata": {},
     "output_type": "execute_result"
    }
   ],
   "source": [
    "ids_[0].astype(int).iloc[0]"
   ]
  },
  {
   "cell_type": "code",
   "execution_count": 24,
   "metadata": {
    "hidden": true
   },
   "outputs": [
    {
     "data": {
      "text/plain": [
       "4116109"
      ]
     },
     "execution_count": 24,
     "metadata": {},
     "output_type": "execute_result"
    }
   ],
   "source": [
    "ids[0]"
   ]
  },
  {
   "cell_type": "code",
   "execution_count": 10,
   "metadata": {
    "hidden": true
   },
   "outputs": [
    {
     "name": "stdout",
     "output_type": "stream",
     "text": [
      "2556391\n"
     ]
    }
   ],
   "source": [
    "print(np.sum(lengths))"
   ]
  },
  {
   "cell_type": "code",
   "execution_count": 16,
   "metadata": {
    "hidden": true
   },
   "outputs": [
    {
     "data": {
      "text/html": [
       "<div>\n",
       "<style scoped>\n",
       "    .dataframe tbody tr th:only-of-type {\n",
       "        vertical-align: middle;\n",
       "    }\n",
       "\n",
       "    .dataframe tbody tr th {\n",
       "        vertical-align: top;\n",
       "    }\n",
       "\n",
       "    .dataframe thead th {\n",
       "        text-align: right;\n",
       "    }\n",
       "</style>\n",
       "<table border=\"1\" class=\"dataframe\">\n",
       "  <thead>\n",
       "    <tr style=\"text-align: right;\">\n",
       "      <th></th>\n",
       "      <th>osm_id</th>\n",
       "      <th>code</th>\n",
       "      <th>fclass</th>\n",
       "      <th>name</th>\n",
       "      <th>geometry</th>\n",
       "    </tr>\n",
       "  </thead>\n",
       "  <tbody>\n",
       "    <tr>\n",
       "      <th>0</th>\n",
       "      <td>249416268</td>\n",
       "      <td>4111</td>\n",
       "      <td>peak</td>\n",
       "      <td>Cerro de la Virgen Negra</td>\n",
       "      <td>POINT (-77.61667 0.68333)</td>\n",
       "    </tr>\n",
       "    <tr>\n",
       "      <th>1</th>\n",
       "      <td>271128377</td>\n",
       "      <td>4113</td>\n",
       "      <td>volcano</td>\n",
       "      <td>Volcán Chiles</td>\n",
       "      <td>POINT (-77.93725 0.81695)</td>\n",
       "    </tr>\n",
       "    <tr>\n",
       "      <th>2</th>\n",
       "      <td>277831865</td>\n",
       "      <td>4111</td>\n",
       "      <td>peak</td>\n",
       "      <td>Entrada Capellania</td>\n",
       "      <td>POINT (-73.76581 5.40395)</td>\n",
       "    </tr>\n",
       "    <tr>\n",
       "      <th>3</th>\n",
       "      <td>279947427</td>\n",
       "      <td>4111</td>\n",
       "      <td>peak</td>\n",
       "      <td>la cima</td>\n",
       "      <td>POINT (-74.28554 4.66747)</td>\n",
       "    </tr>\n",
       "    <tr>\n",
       "      <th>4</th>\n",
       "      <td>281862900</td>\n",
       "      <td>4111</td>\n",
       "      <td>peak</td>\n",
       "      <td>La Popa</td>\n",
       "      <td>POINT (-75.52614 10.41989)</td>\n",
       "    </tr>\n",
       "  </tbody>\n",
       "</table>\n",
       "</div>"
      ],
      "text/plain": [
       "      osm_id  code   fclass                      name  \\\n",
       "0  249416268  4111     peak  Cerro de la Virgen Negra   \n",
       "1  271128377  4113  volcano             Volcán Chiles   \n",
       "2  277831865  4111     peak        Entrada Capellania   \n",
       "3  279947427  4111     peak                   la cima   \n",
       "4  281862900  4111     peak                   La Popa   \n",
       "\n",
       "                     geometry  \n",
       "0   POINT (-77.61667 0.68333)  \n",
       "1   POINT (-77.93725 0.81695)  \n",
       "2   POINT (-73.76581 5.40395)  \n",
       "3   POINT (-74.28554 4.66747)  \n",
       "4  POINT (-75.52614 10.41989)  "
      ]
     },
     "execution_count": 16,
     "metadata": {},
     "output_type": "execute_result"
    }
   ],
   "source": [
    "natural = gpd.read_file(path+filenames[1])\n",
    "natural.head()"
   ]
  },
  {
   "cell_type": "code",
   "execution_count": 30,
   "metadata": {
    "code_folding": [
     10
    ],
    "hidden": true,
    "scrolled": true
   },
   "outputs": [
    {
     "name": "stdout",
     "output_type": "stream",
     "text": [
      "CPU times: user 1min 26s, sys: 1min 42s, total: 3min 9s\n",
      "Wall time: 5min 37s\n"
     ]
    }
   ],
   "source": [
    "%%time\n",
    "\n",
    "f = os.path.join(f'/Users/mahamfaisalkhan/repos/world-bank/covid_local/data/osm/{country}-latest.osm.pbf')\n",
    "osm = esy.osm.pbf.File(f)\n",
    "\n",
    "lat_lon_count = []\n",
    "multi_polygon_count = []\n",
    "n = 0\n",
    "ids = []\n",
    "multi = []\n",
    "for i in osm:\n",
    "    n=n+1\n",
    "    ids.append(i.id)\n",
    "    try:\n",
    "        lat_lon_count.append(i.lonlat)\n",
    "    except:\n",
    "        multi.append(i.id)\n",
    "        multi_polygon_count.append(i)\n"
   ]
  },
  {
   "cell_type": "code",
   "execution_count": 15,
   "metadata": {
    "hidden": true
   },
   "outputs": [
    {
     "name": "stdout",
     "output_type": "stream",
     "text": [
      "No of lat lon: 22975525\n",
      "No of multi polygon: 2445595\n",
      "Total: 25421120\n",
      "Ratio: 0.903796724927934\n"
     ]
    }
   ],
   "source": [
    "print(f'No of lat lon: {len(lat_lon_count)}')\n",
    "print(f'No of multi polygon: {len(multi_polygon_count)}')\n",
    "print(f'Total: {n}')\n",
    "print(f'Ratio: {(len(lat_lon_count)/n)}')"
   ]
  },
  {
   "cell_type": "markdown",
   "metadata": {
    "heading_collapsed": true
   },
   "source": [
    "### Mexico"
   ]
  },
  {
   "cell_type": "code",
   "execution_count": null,
   "metadata": {
    "hidden": true
   },
   "outputs": [],
   "source": [
    "%%time\n",
    "country = 'mexico'\n",
    "f = os.path.join(f'/Users/mahamfaisalkhan/repos/world-bank/covid_local/data/osm/{country}-latest.osm.pbf')\n",
    "osm = esy.osm.pbf.File(f)\n",
    "\n",
    "lat_lon_count = []\n",
    "multi_polygon_count = []\n",
    "n = 0\n",
    "for i in osm:\n",
    "    n=n+1\n",
    "    try:\n",
    "        lat_lon_count.append(i.lonlat)\n",
    "    except:\n",
    "        multi_polygon_count.append(i)"
   ]
  },
  {
   "cell_type": "code",
   "execution_count": null,
   "metadata": {
    "hidden": true
   },
   "outputs": [],
   "source": [
    "print(f'No of lat lon: {len(lat_lon_count)}')\n",
    "print(f'No of multi polygon: {len(multi_polygon_count)}')\n",
    "print(f'Total: {n}')\n",
    "print(f'Ratio: {(len(lat_lon_count)/n)}')"
   ]
  },
  {
   "cell_type": "markdown",
   "metadata": {},
   "source": [
    "### India"
   ]
  },
  {
   "cell_type": "code",
   "execution_count": null,
   "metadata": {
    "code_folding": [
     0
    ]
   },
   "outputs": [],
   "source": [
    "%%time\n",
    "country = 'india'\n",
    "f = os.path.join(f'/Users/mahamfaisalkhan/repos/world-bank/covid_local/data/osm/{country}-latest.osm.pbf')\n",
    "osm = esy.osm.pbf.File(f)\n",
    "\n",
    "lat_lon_count = []\n",
    "multi_polygon_count = []\n",
    "n = 0\n",
    "for i in osm:\n",
    "    n=n+1\n",
    "#     if n<100:\n",
    "    try:\n",
    "        lat_lon_count.append(i.lonlat)\n",
    "    except:\n",
    "        multi_polygon_count.append(i)\n",
    "print(f'No of lat lon{len(lat_lon_count)}')\n",
    "print(f'No of multi polygon{len(multi_polygon_count)}')\n",
    "print(f'Total: {n}')\n",
    "print(f'Ratio: {(len(temp)/n)}')"
   ]
  },
  {
   "cell_type": "markdown",
   "metadata": {},
   "source": [
    "### Indonesia"
   ]
  },
  {
   "cell_type": "code",
   "execution_count": null,
   "metadata": {
    "code_folding": [
     0
    ]
   },
   "outputs": [],
   "source": [
    "%%time\n",
    "country = 'indonesia'\n",
    "f = os.path.join(f'/Users/mahamfaisalkhan/repos/world-bank/covid_local/data/osm/{country}-latest.osm.pbf')\n",
    "osm = esy.osm.pbf.File(f)\n",
    "\n",
    "lat_lon_count = []\n",
    "multi_polygon_count = []\n",
    "n = 0\n",
    "for i in osm:\n",
    "    n=n+1\n",
    "#     if n<100:\n",
    "    try:\n",
    "        lat_lon_count.append(i.lonlat)\n",
    "    except:\n",
    "        multi_polygon_count.append(i)\n",
    "print(f'No of lat lon{len(lat_lon_count)}')\n",
    "print(f'No of multi polygon{len(multi_polygon_count)}')\n",
    "print(f'Total: {n}')\n",
    "print(f'Ratio: {(len(temp)/n)}')"
   ]
  },
  {
   "cell_type": "markdown",
   "metadata": {
    "heading_collapsed": true
   },
   "source": [
    "## Defining functions (can be much more efficient)"
   ]
  },
  {
   "cell_type": "code",
   "execution_count": 37,
   "metadata": {
    "hidden": true
   },
   "outputs": [
    {
     "name": "stdout",
     "output_type": "stream",
     "text": [
      "CPU times: user 2min 34s, sys: 6.43 s, total: 2min 41s\n",
      "Wall time: 2min 59s\n"
     ]
    }
   ],
   "source": [
    "%%time\n",
    "df = master_function(f,'colombia')"
   ]
  },
  {
   "cell_type": "code",
   "execution_count": 4,
   "metadata": {
    "code_folding": [
     0
    ],
    "hidden": true
   },
   "outputs": [],
   "source": [
    "def osm_google_extraction(subregion):\n",
    "    return pd.concat([\n",
    "    osm_financial_extraction(subregion),\n",
    "    osm_gas_extraction(subregion),                               \n",
    "    osm_education_extraction(subregion),                               \n",
    "    osm_warehouse_extraction(subregion),     \n",
    "    osm_commercial_extraction(subregion),\n",
    "    osm_transportation_extraction(subregion),\n",
    "    osm_sport_extraction(subregion),\n",
    "    osm_public_extraction(subregion),\n",
    "    osm_govt_extraction(subregion),\n",
    "    osm_emergency_extraction(subregion),\n",
    "    osm_hospital_extraction(subregion)])"
   ]
  },
  {
   "cell_type": "code",
   "execution_count": 5,
   "metadata": {
    "code_folding": [
     0
    ],
    "hidden": true
   },
   "outputs": [],
   "source": [
    "def osm_commercial_extraction(filepath):\n",
    "    '''\n",
    "    Where: shop IS NOT NULL OR tourism IS NOT NULL OR amenity IN \n",
    "    ('marketplace','restaurant','fast_food','cafe','bar','pub') \n",
    "    OR office IS NOT NULL\n",
    "\n",
    "    '''\n",
    "    osm = esy.osm.pbf.File(filepath)\n",
    "    records = pd.DataFrame([entry for entry in osm if \\\n",
    "                            (entry.tags.get('shop') or \n",
    "                             entry.tags.get('tourism') or                              \n",
    "                             entry.tags.get('office') or                              \n",
    "                            (entry.tags.get('amenity') in ['marketplace','restaurant','fast_food','cafe','bar','pub'])\n",
    "                            )])\n",
    "    print(f'No. of commercial records = {len(records)}')\n",
    "    records['amenity_name'] = records['tags'].apply(lambda x: x['amenity'] if 'amenity' in x.keys() else None)\n",
    "    records['shop'] = records['tags'].apply(lambda x: x['shop'] if 'shop' in x.keys() else None)\n",
    "    records['tourism'] = records['tags'].apply(lambda x: x['tourism'] if 'tourism' in x.keys() else None)\n",
    "    records['office'] = records['tags'].apply(lambda x: x['office'] if 'office' in x.keys() else None)                             \n",
    "    return records  "
   ]
  },
  {
   "cell_type": "code",
   "execution_count": 6,
   "metadata": {
    "code_folding": [
     0
    ],
    "hidden": true
   },
   "outputs": [],
   "source": [
    "def osm_transportation_extraction(filepath):\n",
    "    '''\n",
    "    aeroway IS NOT NULL OR \n",
    "    highway IS NOT NULL OR \n",
    "    railway IS NOT NULL OR \n",
    "    building IN ('aerodrome','ferry_terminal','train_station') OR amenity IN ('ferry_terminal','bus_station')\n",
    "    '''\n",
    "    osm = esy.osm.pbf.File(filepath)\n",
    "    records = pd.DataFrame([entry for entry in osm if \n",
    "                            (entry.tags.get('aeroway') or \n",
    "                             entry.tags.get('highway') or \n",
    "                             entry.tags.get('railway') or \n",
    "                             (entry.tags.get('building') in ['aerodrome','ferry_terminal','train_station']) or\n",
    "                             (entry.tags.get('amenity') in ['ferry_terminal','bus_station'])                             \n",
    "                            )])\n",
    "    print(f'No. of transportation records = {len(records)}')\n",
    "    records['amenity_name'] = records['tags'].apply(lambda x: x['amenity'] if 'amenity' in x.keys() else None)\n",
    "    records['aeroway'] = records['tags'].apply(lambda x: x['aeroway'] if 'aeroway' in x.keys() else None)\n",
    "    records['highway'] = records['tags'].apply(lambda x: x['highway'] if 'highway' in x.keys() else None)\n",
    "    records['railway'] = records['tags'].apply(lambda x: x['railway'] if 'railway' in x.keys() else None)\n",
    "    records['building'] = records['tags'].apply(lambda x: x['building'] if 'building' in x.keys() else None)\n",
    "    \n",
    "    \n",
    "    return records  "
   ]
  },
  {
   "cell_type": "code",
   "execution_count": 7,
   "metadata": {
    "code_folding": [
     0
    ],
    "hidden": true
   },
   "outputs": [],
   "source": [
    "def osm_sport_extraction(filepath):\n",
    "    '''\n",
    "    # sport \n",
    "    sport IS NOT NULL OR leisure IN ('park','stadium, swimming pool, pitch, sport_centre')\n",
    "    '''\n",
    "    osm = esy.osm.pbf.File(filepath)\n",
    "    records = pd.DataFrame([entry for entry in osm if \\\n",
    "                            (entry.tags.get('sport') or \\\n",
    "                            (entry.tags.get('leisure') in ['park','stadium, swimming pool, pitch, sport_centre'])\n",
    "                            )])\n",
    "    print(f'No. of sport records = {len(records)}')\n",
    "    records['sport'] = records['tags'].apply(lambda x: x['sport'] if 'sport' in x.keys() else None)\n",
    "    records['leisure'] = records['tags'].apply(lambda x: x['leisure'] if 'leisure' in x.keys() else None)\n",
    "    \n",
    "    return records  "
   ]
  },
  {
   "cell_type": "code",
   "execution_count": 8,
   "metadata": {
    "code_folding": [
     0
    ],
    "hidden": true
   },
   "outputs": [],
   "source": [
    "def osm_public_extraction(filepath):\n",
    "    '''\n",
    "    # public\n",
    "    building='public' OR amenity IN ('place_of_worship','community_centre','library','toilets') OR historic IS NOT NULL\n",
    "\n",
    "    '''\n",
    "    osm = esy.osm.pbf.File(filepath)\n",
    "    records = pd.DataFrame([entry for entry in osm if \n",
    "                            (entry.tags.get('building')=='public' or \n",
    "                            (entry.tags.get('historic')) or                      \n",
    "                            (entry.tags.get('amenity') in ['place_of_worship','community_centre','library','toilets'])\n",
    "                            )])\n",
    "    print(f'No. of public records = {len(records)}')\n",
    "    records['building'] = records['tags'].apply(lambda x: x['public'] if 'public' in x.keys() else None)\n",
    "    records['historic'] = records['tags'].apply(lambda x: x['historic'] if 'historic' in x.keys() else None)    \n",
    "    records['anemity_name'] = records['tags'].apply(lambda x: x['amenity'] if 'amenity' in x.keys() else None)\n",
    "    \n",
    "    return records  "
   ]
  },
  {
   "cell_type": "code",
   "execution_count": 9,
   "metadata": {
    "code_folding": [
     0
    ],
    "hidden": true
   },
   "outputs": [],
   "source": [
    "def osm_warehouse_extraction(filepath):\n",
    "    '''\n",
    "    Where: building='warehouse' OR industrial='warehouse'\n",
    "    '''\n",
    "    osm = esy.osm.pbf.File(filepath)\n",
    "    records = pd.DataFrame([entry for entry in osm if \\\n",
    "                            (entry.tags.get('building')=='warehouse') or \n",
    "                            (entry.tags.get('industrial')=='warehouse')\n",
    "                            ])\n",
    "    print(f'No. of warehouse records = {len(records)}')\n",
    "    records['building'] = records['tags'].apply(lambda x: x['building'] if 'building' in x.keys() else None)\n",
    "    records['industrial'] = records['tags'].apply(lambda x: x['industrial'] if 'industrial' in x.keys() else None)\n",
    "    \n",
    "    return records  "
   ]
  },
  {
   "cell_type": "code",
   "execution_count": 10,
   "metadata": {
    "code_folding": [
     0
    ],
    "hidden": true
   },
   "outputs": [],
   "source": [
    "def osm_govt_extraction(filepath):\n",
    "    '''\n",
    "    building='civic' OR office IN ('government','political_party','notary') OR \n",
    "    government IS NOT NULL OR landuse='military' \n",
    "    OR military IS NOT NULL \n",
    "    OR amenity IN ('court_house','townhall','embassy','post_office')    \n",
    "    '''\n",
    "    \n",
    "    osm = esy.osm.pbf.File(filepath)\n",
    "    records = pd.DataFrame([entry for entry in osm if \n",
    "                            ((entry.tags.get('amenity') in ['court_house','townhall','embassy','post_office']) or                           \n",
    "                            (entry.tags.get('government')) or                             \n",
    "                            (entry.tags.get('building')=='civic') or \n",
    "                            (entry.tags.get('landuse')=='military') or \n",
    "                            (entry.tags.get('office') in ['government','political_party','notary']) or \n",
    "                            (entry.tags.get('military'))\n",
    "                            )])\n",
    "    print(f'No. of govt. records = {len(records)}')\n",
    "    records['amenity_name'] = records['tags'].apply(lambda x: x['amenity'] if 'amenity' in x.keys() else None)\n",
    "    records['government'] = records['tags'].apply(lambda x: x['government'] if 'government' in x.keys() else None)\n",
    "    records['building'] = records['tags'].apply(lambda x: x['building'] if 'building' in x.keys() else None)\n",
    "    records['landuse'] = records['tags'].apply(lambda x: x['landuse'] if 'landuse' in x.keys() else None)    \n",
    "    records['office'] = records['tags'].apply(lambda x: x['office'] if 'office' in x.keys() else None)    \n",
    "    records['military'] = records['tags'].apply(lambda x: x['military'] if 'military' in x.keys() else None)    \n",
    "    return records  "
   ]
  },
  {
   "cell_type": "code",
   "execution_count": 11,
   "metadata": {
    "code_folding": [
     0
    ],
    "hidden": true
   },
   "outputs": [],
   "source": [
    "def osm_financial_extraction(filepath):\n",
    "    '''\n",
    "    #financial\n",
    "    amenity IN ('atm','bank','bureau_de_change','microfinance','mobile_money_agent','money_transfer')\n",
    "\n",
    "    '''    \n",
    "    osm = esy.osm.pbf.File(filepath)\n",
    "    records = pd.DataFrame([entry for entry in osm if \\\n",
    "                            (entry.tags.get('amenity') in ['atm','bank','bureau_de_change','microfinance','mobile_money_agent','money_transfer'])\n",
    "                            ])\n",
    "    print(f'No. of financial records = {len(records)}')\n",
    "    records['amenity_name'] = records['tags'].apply(lambda x: x['amenity'] if 'amenity' in x.keys() else None)\n",
    "    \n",
    "    return records  "
   ]
  },
  {
   "cell_type": "code",
   "execution_count": 12,
   "metadata": {
    "code_folding": [
     0
    ],
    "hidden": true
   },
   "outputs": [],
   "source": [
    "def osm_emergency_extraction(filepath):\n",
    "    '''\n",
    "    #emergency\n",
    "    Where: emergency IS NOT NULL OR amenity IN ('police','fire_station')\n",
    "    '''\n",
    "    osm = esy.osm.pbf.File(filepath)\n",
    "    records = pd.DataFrame([entry for entry in osm if \\\n",
    "                            (entry.tags.get('emergency') or \\\n",
    "                            (entry.tags.get('amenity') in ['police','fire_station'])\n",
    "                            )])\n",
    "    print(f'No. of emergency records = {len(records)}')\n",
    "    records['amenity_name'] = records['tags'].apply(lambda x: x['amenity'] if 'amenity' in x.keys() else None)\n",
    "    records['emergency'] = records['tags'].apply(lambda x: x['emergency'] if 'emergency' in x.keys() else None)\n",
    "    \n",
    "    return records  "
   ]
  },
  {
   "cell_type": "code",
   "execution_count": 13,
   "metadata": {
    "code_folding": [
     0
    ],
    "hidden": true
   },
   "outputs": [],
   "source": [
    "def osm_education_extraction(filepath):\n",
    "    '''\n",
    "    #education\n",
    "    amenity IN ('kindergarten', 'school', 'college', 'university','language_school') OR office='educational_institution'\n",
    "\n",
    "    '''\n",
    "    osm = esy.osm.pbf.File(filepath)\n",
    "    records = pd.DataFrame([entry for entry in osm if \\\n",
    "                            (entry.tags.get('amenity') in ['kindergarten','school', 'college', 'university','language_school']) or\\\n",
    "                            (entry.tags.get('office')=='educational_institution')\n",
    "                           ])\n",
    "    print(f'No. of education records = {len(records)}')\n",
    "    records['amenity_name'] = records['tags'].apply(lambda x: x['amenity'] if 'amenity' in x.keys() else None)\n",
    "    records['office_type'] = records['tags'].apply(lambda x: x['office'] if 'office' in x.keys() else None)\n",
    "    \n",
    "    return records   "
   ]
  },
  {
   "cell_type": "code",
   "execution_count": 14,
   "metadata": {
    "code_folding": [],
    "hidden": true
   },
   "outputs": [],
   "source": [
    "def osm_gas_extraction(filepath):\n",
    "    '''\n",
    "    #gas station\n",
    "    amenity='fuel'\n",
    "    '''\n",
    "    osm = esy.osm.pbf.File(filepath)\n",
    "    records = pd.DataFrame([entry for entry in osm if \\\n",
    "                            (entry.tags.get('amenity') in ['fuel'])] \\\n",
    "                          )\n",
    "    print(f'No. of gas records = {len(records)}')\n",
    "    records['amenity_name'] = records['tags'].apply(lambda x: x['amenity'] if 'amenity' in x.keys() else None)\n",
    "    return records   "
   ]
  },
  {
   "cell_type": "code",
   "execution_count": 39,
   "metadata": {
    "code_folding": [
     0
    ],
    "hidden": true
   },
   "outputs": [],
   "source": [
    "def osm_hospital_extraction(filepath):\n",
    "    osm = esy.osm.pbf.File(filepath)\n",
    "    records = pd.DataFrame([[entry,entry.lonlat] for entry in osm if \n",
    "                            (entry.tags.get('healthcare') \\\n",
    "                             or entry.tags.get('amenity') in ['doctors', 'dentist', 'clinic', 'toilets', 'hospital', 'pharmacy'] \\\n",
    "                             or entry.tags.get('shop') in ('herbalist','nutrition_supplements'))])\n",
    "    print(f'No. of hospital records = {len(records)}')\n",
    "    records['amenity_name'] = records['tags'].apply(lambda x: x['amenity'] if 'amenity' in x.keys() else None)\n",
    "    records['shop'] = records['tags'].apply(lambda x: x['shop'] if 'shop' in x.keys() else None)\n",
    "    records['healthcare'] = records['tags'].apply(lambda x: x['healthcare'] if 'healthcare' in x.keys() else None)\n",
    "    \n",
    "    return records  "
   ]
  },
  {
   "cell_type": "markdown",
   "metadata": {
    "heading_collapsed": true
   },
   "source": [
    "## Indonesia"
   ]
  },
  {
   "cell_type": "code",
   "execution_count": 20,
   "metadata": {
    "code_folding": [],
    "hidden": true
   },
   "outputs": [
    {
     "name": "stdout",
     "output_type": "stream",
     "text": [
      "/Users/mahamfaisalkhan/repos/world-bank/covid_local/data/osm/indonesia-latest.osm.pbf\n",
      "No. of hospital records = 12868\n",
      "CPU times: user 8min 59s, sys: 3.7 s, total: 9min 3s\n",
      "Wall time: 9min 12s\n"
     ]
    }
   ],
   "source": [
    "%%time\n",
    "country = 'indonesia'\n",
    "f = os.path.join(f'/Users/mahamfaisalkhan/repos/world-bank/covid_local/data/osm/{country}-latest.osm.pbf')\n",
    "print(f)\n"
   ]
  },
  {
   "cell_type": "code",
   "execution_count": 22,
   "metadata": {
    "hidden": true
   },
   "outputs": [
    {
     "name": "stdout",
     "output_type": "stream",
     "text": [
      "No. of gas records = 3196\n",
      "No. of education records = 207\n"
     ]
    }
   ],
   "source": [
    "hospital = osm_hospital_extraction(f)\n",
    "gas = osm_gas_extraction_extraction(f)\n",
    "education = osm_education_extraction(f)\n",
    "emergency = osm_emergency_extraction(f)\n",
    "financial = osm_financial_extraction(f)\n",
    "govt = osm_govt_extraction(f)\n",
    "warehouse = osm_warehouse_extraction(f)\n",
    "public = osm_public_extraction(f)\n",
    "sport = osm_sport_extraction(f)\n",
    "transportation = osm_transportation_extraction(f)\n"
   ]
  },
  {
   "cell_type": "code",
   "execution_count": 28,
   "metadata": {
    "hidden": true
   },
   "outputs": [],
   "source": [
    "country = 'indonesia'\n",
    "hospital.to_csv(f'{country}_hospitals.csv')\n",
    "gas.to_csv(f'{country}_gas.csv')\n",
    "education.to_csv(f'{country}_education.csv')\n",
    "emergency.to_csv(f'{country}_emergency.csv')\n",
    "financial.to_csv(f'{country}_financial.csv')\n",
    "govt.to_csv(f'{country}_govt.csv')\n",
    "warehouse.to_csv(f'{country}_warehouse.csv')\n",
    "public.to_csv(f'{country}_public.csv')\n",
    "sport.to_csv(f'{country}_sport.csv')\n",
    "transportation.to_csv(f'{country}_transportation.csv')"
   ]
  },
  {
   "cell_type": "markdown",
   "metadata": {},
   "source": [
    "## Mexico"
   ]
  },
  {
   "cell_type": "code",
   "execution_count": 42,
   "metadata": {},
   "outputs": [
    {
     "name": "stdout",
     "output_type": "stream",
     "text": [
      "No. of hospital records = 9680\n",
      "No. of gas records = 7738\n",
      "No. of education records = 214\n",
      "No. of emergency records = 2234\n",
      "No. of financial records = 4594\n",
      "No. of govt. records = 4402\n",
      "No. of warehouse records = 6316\n",
      "No. of public records = 18109\n",
      "No. of sport records = 59921\n",
      "No. of transportation records = 2936491\n",
      "CPU times: user 19min 57s, sys: 45.5 s, total: 20min 43s\n",
      "Wall time: 23min 22s\n"
     ]
    }
   ],
   "source": [
    "# %%time\n",
    "# country = 'mexico'\n",
    "# f = os.path.join(f'/Users/mahamfaisalkhan/repos/world-bank/covid_local/data/osm/{country}-latest.osm.pbf')\n",
    "# hospital = osm_hospital_extraction(f)\n",
    "# hospital.to_csv(f'{country}_hospitals.csv')\n",
    "# gas = osm_gas_extraction(f)\n",
    "# gas.to_csv(f'{country}_gas.csv')\n",
    "# education = osm_education_extraction(f)\n",
    "# education.to_csv(f'{country}_education.csv')\n",
    "# emergency = osm_emergency_extraction(f)\n",
    "# emergency.to_csv(f'{country}_emergency.csv')\n",
    "# financial = osm_financial_extraction(f)\n",
    "# financial.to_csv(f'{country}_financial.csv')\n",
    "# govt = osm_govt_extraction(f)\n",
    "# govt.to_csv(f'{country}_govt.csv')\n",
    "# warehouse = osm_warehouse_extraction(f)\n",
    "# warehouse.to_csv(f'{country}_warehouse.csv')\n",
    "# public = osm_public_extraction(f)\n",
    "# public.to_csv(f'{country}_public.csv')\n",
    "# sport = osm_sport_extraction(f)\n",
    "# sport.to_csv(f'{country}_sport.csv')\n",
    "# transportation = osm_transportation_extraction(f)\n",
    "# transportation.to_csv(f'{country}_transportation.csv')"
   ]
  },
  {
   "cell_type": "markdown",
   "metadata": {},
   "source": [
    "## Colombia"
   ]
  },
  {
   "cell_type": "code",
   "execution_count": 47,
   "metadata": {
    "code_folding": []
   },
   "outputs": [
    {
     "name": "stdout",
     "output_type": "stream",
     "text": [
      "No. of hospital records = 7755\n",
      "No. of gas records = 3285\n",
      "No. of education records = 422\n",
      "No. of emergency records = 2984\n",
      "No. of financial records = 3947\n",
      "No. of govt. records = 2508\n",
      "No. of warehouse records = 660\n",
      "No. of public records = 7991\n",
      "No. of sport records = 21414\n",
      "No. of transportation records = 614517\n",
      "CPU times: user 10min 28s, sys: 14.4 s, total: 10min 42s\n",
      "Wall time: 11min 33s\n"
     ]
    }
   ],
   "source": [
    "%%time\n",
    "country = 'colombia'\n",
    "f = os.path.join(f'/Users/mahamfaisalkhan/repos/world-bank/covid_local/data/osm/{country}-latest.osm.pbf')\n",
    "hospital = osm_hospital_extraction(f)\n",
    "hospital.to_csv(f'{country}_hospitals.csv')\n",
    "gas = osm_gas_extraction(f)\n",
    "gas.to_csv(f'{country}_gas.csv')\n",
    "education = osm_education_extraction(f)\n",
    "education.to_csv(f'{country}_education.csv')\n",
    "emergency = osm_emergency_extraction(f)\n",
    "emergency.to_csv(f'{country}_emergency.csv')\n",
    "financial = osm_financial_extraction(f)\n",
    "financial.to_csv(f'{country}_financial.csv')\n",
    "govt = osm_govt_extraction(f)\n",
    "govt.to_csv(f'{country}_govt.csv')\n",
    "warehouse = osm_warehouse_extraction(f)\n",
    "warehouse.to_csv(f'{country}_warehouse.csv')\n",
    "public = osm_public_extraction(f)\n",
    "public.to_csv(f'{country}_public.csv')\n",
    "sport = osm_sport_extraction(f)\n",
    "sport.to_csv(f'{country}_sport.csv')\n",
    "transportation = osm_transportation_extraction(f)\n",
    "transportation.to_csv(f'{country}_transportation.csv')"
   ]
  },
  {
   "cell_type": "markdown",
   "metadata": {},
   "source": [
    "## India"
   ]
  },
  {
   "cell_type": "code",
   "execution_count": 48,
   "metadata": {
    "code_folding": [
     0
    ]
   },
   "outputs": [
    {
     "name": "stdout",
     "output_type": "stream",
     "text": [
      "No. of hospital records = 66753\n",
      "No. of gas records = 9116\n",
      "No. of education records = 2637\n",
      "No. of emergency records = 4834\n",
      "No. of financial records = 20921\n",
      "No. of govt. records = 9710\n",
      "No. of warehouse records = 519\n",
      "No. of public records = 47810\n",
      "No. of sport records = 26203\n",
      "No. of transportation records = 3422264\n",
      "CPU times: user 51min 29s, sys: 1min 4s, total: 52min 34s\n",
      "Wall time: 54min 53s\n"
     ]
    }
   ],
   "source": [
    "%%time\n",
    "country = 'india'\n",
    "f = os.path.join(f'/Users/mahamfaisalkhan/repos/world-bank/covid_local/data/osm/{country}-latest.osm.pbf')\n",
    "hospital = osm_hospital_extraction(f)\n",
    "hospital.to_csv(f'{country}_hospitals.csv')\n",
    "gas = osm_gas_extraction(f)\n",
    "gas.to_csv(f'{country}_gas.csv')\n",
    "education = osm_education_extraction(f)\n",
    "education.to_csv(f'{country}_education.csv')\n",
    "emergency = osm_emergency_extraction(f)\n",
    "emergency.to_csv(f'{country}_emergency.csv')\n",
    "financial = osm_financial_extraction(f)\n",
    "financial.to_csv(f'{country}_financial.csv')\n",
    "govt = osm_govt_extraction(f)\n",
    "govt.to_csv(f'{country}_govt.csv')\n",
    "warehouse = osm_warehouse_extraction(f)\n",
    "warehouse.to_csv(f'{country}_warehouse.csv')\n",
    "public = osm_public_extraction(f)\n",
    "public.to_csv(f'{country}_public.csv')\n",
    "sport = osm_sport_extraction(f)\n",
    "sport.to_csv(f'{country}_sport.csv')\n",
    "transportation = osm_transportation_extraction(f)\n",
    "transportation.to_csv(f'{country}_transportation.csv')"
   ]
  },
  {
   "cell_type": "code",
   "execution_count": null,
   "metadata": {},
   "outputs": [],
   "source": []
  }
 ],
 "metadata": {
  "kernelspec": {
   "display_name": "GPD3",
   "language": "python",
   "name": "gpd3"
  },
  "language_info": {
   "codemirror_mode": {
    "name": "ipython",
    "version": 3
   },
   "file_extension": ".py",
   "mimetype": "text/x-python",
   "name": "python",
   "nbconvert_exporter": "python",
   "pygments_lexer": "ipython3",
   "version": "3.7.7"
  },
  "toc": {
   "base_numbering": 1,
   "nav_menu": {},
   "number_sections": true,
   "sideBar": true,
   "skip_h1_title": false,
   "title_cell": "Table of Contents",
   "title_sidebar": "Contents",
   "toc_cell": false,
   "toc_position": {},
   "toc_section_display": true,
   "toc_window_display": false
  }
 },
 "nbformat": 4,
 "nbformat_minor": 4
}
